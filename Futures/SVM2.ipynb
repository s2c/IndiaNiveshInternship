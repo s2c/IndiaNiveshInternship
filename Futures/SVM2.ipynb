{
 "cells": [
  {
   "cell_type": "code",
   "execution_count": 1,
   "metadata": {},
   "outputs": [
    {
     "name": "stderr",
     "output_type": "stream",
     "text": [
      "c:\\users\\rock-\\anaconda3\\envs\\tensorflow\\lib\\importlib\\_bootstrap.py:222: RuntimeWarning: numpy.dtype size changed, may indicate binary incompatibility. Expected 96, got 88\n",
      "  return f(*args, **kwds)\n",
      "c:\\users\\rock-\\anaconda3\\envs\\tensorflow\\lib\\importlib\\_bootstrap.py:222: RuntimeWarning: numpy.dtype size changed, may indicate binary incompatibility. Expected 96, got 88\n",
      "  return f(*args, **kwds)\n"
     ]
    }
   ],
   "source": [
    "import pandas as pd\n",
    "import numpy as np\n",
    "from sklearn import svm\n",
    "import sklearn.preprocessing as skp\n",
    "# import np_utils\n",
    "from sklearn.metrics import confusion_matrix\n",
    "from sklearn.utils import shuffle\n",
    "\n",
    "from sklearn.linear_model import LogisticRegression, SGDClassifier\n",
    "from sklearn.naive_bayes import GaussianNB\n",
    "from sklearn.neighbors import KNeighborsClassifier\n",
    "from sklearn.metrics import r2_score\n",
    "from sklearn.metrics import roc_curve, auc\n",
    "import matplotlib.pyplot as plt\n",
    "\n",
    "from sklearn.model_selection import GridSearchCV\n",
    "from sklearn.decomposition import PCA\n",
    "from sklearn.preprocessing import MinMaxScaler\n",
    "from sklearn.pipeline import make_pipeline"
   ]
  },
  {
   "cell_type": "code",
   "execution_count": 2,
   "metadata": {},
   "outputs": [],
   "source": [
    "#Creates Lagged series\n",
    "#Goes through a series and generates an lag+1 dimensional pandas DataFrame that has each previous lag timeunit\n",
    "#as a column and current as the last cobilumn\n",
    "#Input: Pandas Series\n",
    "#Output: lag+1 dimensional DataFrame\n",
    "\n",
    "def timeseriesLagged(data, lag=60):\n",
    "    df = data\n",
    "    columns = [df.shift(i) for i in range(1, lag+2)] \n",
    "    df = pd.concat(columns,axis=1)\n",
    "    df.fillna(0, inplace=True)\n",
    "    df.columns = [str(lag+2-x) for x in range(1,lag+2)]\n",
    "    # df.reset_index(inplace=True,drop=False)\n",
    "    df = df[df.columns[::-1]] #Flip because we want newer data on the right\n",
    "    df= df.iloc[lag+1:] # drop the first 'lag' columns because zeroes.\n",
    "    df.reset_index(drop=True,inplace=True)\n",
    "    return df\n",
    "\n",
    "# Binarizes the last column into 1, 0, -1. 1 = buy 0 = do nothing -1 = sell\n",
    "# Rate is the percent increase or decrease that should trigger a buy or a sell\n",
    "# lag is the time unit of lag. \n",
    "# atleast is how many of the lookahead need to be atleast the same or greater than flat+rat\n",
    "# Input: lagged pandas DataFrame, uint lag, double dif, double flat, double atleast between 0 and 1\n",
    "# Output : Pandas Dataframe with last column binarized\n",
    "def binarizeTime(resLagged,rate = 0,lookahead = 0, flat = 0,atleast = 0.5):\n",
    "    if lookahead <= 0 :\n",
    "        raise Exception(\"lookahead Must be 1 or higher!\")\n",
    "    resLagged = resLagged.copy() # Make a deep copy\n",
    "    last = np.shape(resLagged)[1] # find the length of the data \n",
    "    last = last-lookahead # convert it to string for loc\n",
    "    colsLookAhead = list(resLagged.loc[:,str(last+1):str(last + lookahead)])\n",
    "    colsLast = resLagged[str(last)]\n",
    "    diffs = resLagged[colsLookAhead].subtract(colsLast,axis=0)\n",
    "#     print(diffs)\n",
    "    greater = diffs>=flat  # all the times the price changed higer than flat\n",
    "    greater = np.count_nonzero(greater,axis=1).reshape((1,-1))\n",
    "    lesser = diffs<=-flat # all the times the price fell lower than fat\n",
    "    lesser = np.count_nonzero(lesser,axis=1).reshape((1,-1))\n",
    "#     return greater,lesser\n",
    "#     print(greater)\n",
    "    greater = greater.reshape(1,-1)\n",
    "    changeToBuy = np.any(greater > lesser & np.greater(greater,atleast*lookahead),axis=0) # make sure more rises than falls and atleast half rises\n",
    "    changeToSell = np.any(lesser > greater & np.greater(lesser,atleast*lookahead),axis=0)      # make sure more falls than rises and atleast half rises\n",
    "    changeToHold = ~changeToBuy & ~changeToSell\n",
    "    resLagged = resLagged.drop(colsLookAhead,1)\n",
    "    resLagged.loc[changeToSell,str(last+1)] = -1 # Set sell to -1\n",
    "    resLagged.loc[changeToBuy,str(last+1)] = 1 # Set buy to 1\n",
    "    resLagged.loc[changeToHold,str(last+1)] = 0 # Set to 0\n",
    "    return resLagged"
   ]
  },
  {
   "cell_type": "code",
   "execution_count": 3,
   "metadata": {},
   "outputs": [],
   "source": [
    "# Read all the data from the csv files\n",
    "nifty = pd.read_csv(\"NiftyPrice.csv\")\n",
    "nifty = nifty[::-1] # Reverse to align\n",
    "nifty.reset_index(inplace=True, drop = True)\n",
    "nifty.rename(columns={ nifty.columns[0]: \"Date\" },inplace=True)\n",
    "\n",
    "futOI = pd.read_csv(\"NiftyFutOI.csv\")\n",
    "futOI = futOI[::-1] # Reverse to align\n",
    "futOI.reset_index(inplace=True, drop = True)\n",
    "futOI.rename(columns={ futOI.columns[0]: \"Date\" },inplace=True)\n",
    "\n",
    "# oiSplits = pd.read_csv('putcall.csv')\n",
    "# oiSplits.rename(columns={ oiSplits.columns[0]: \"Date\" },inplace=True)\n",
    "\n",
    "fut = pd.read_csv(\"NiftyFutPrice.csv\")\n",
    "fut = fut[::-1] # reverse to align\n",
    "fut.reset_index(inplace=True, drop = True)\n",
    "fut.rename(columns={ fut.columns[0]: \"Date\" },inplace=True)\n",
    "\n",
    "ad = pd.read_csv(\"niftyAD.csv\")\n",
    "ad = ad[::-1]\n",
    "ad.reset_index(inplace=True, drop = True)\n",
    "ad.rename(columns={ ad.columns[0]: \"Date\" },inplace=True)\n",
    "\n",
    "dat = [nifty,fut,futOI,ad]\n",
    "\n",
    "# Clean and make sure they have the same dates\n",
    "dropset = [] # Collect the dropsets\n",
    "n = 2\n",
    "for cleanee in dat: # O(n^2)\n",
    "    for cleaner in dat: \n",
    "        drop = np.setdiff1d(cleaner['Date'].values,cleanee['Date'].values) # Everything in cleaner AND not in cleanee\n",
    "        dropset.append(drop)\n",
    "\n",
    "for i in range(0,len(dat)): # Actuall drop\n",
    "    for drop in dropset:\n",
    "        dat[i] = dat[i][~dat[i].Date.isin(drop)]        \n"
   ]
  },
  {
   "cell_type": "code",
   "execution_count": 4,
   "metadata": {},
   "outputs": [],
   "source": [
    "# Create % change daily bars of the different features\n",
    "# Nifty Base\n",
    "h = 1 # change from how far ago\n",
    "lag = 10\n",
    "lookahead = 1\n",
    "# t = 1\n",
    "prices = dat[0]['PX_LAST'].pct_change(h).dropna()\n",
    "# volNifty = dat[0]['PX_VOLUME'].pct_change(h).dropna()\n",
    "\n",
    "# dataNifty = dat[0]['PX_LAST'].pct_change(h).dropna()\n",
    "# Nifty Futs\n",
    "volFut = dat[1]['PX_VOLUME'].pct_change(h).dropna()\n",
    "\n",
    "oiFut = dat[2]['OPEN_INT'].pct_change(h).dropna()\n",
    "\n",
    "# dataFut = dat[1]['PX_LAST'].pct_change(h).dropna()\n",
    "\n",
    "# Advance Decline\n",
    "advanceTot = dat[3]['INDX_ADV_NUM'][1:]\n",
    "declineTot = dat[3]['INDX_DECL_NUM'][1:]\n",
    "# advanceDecline = advanceDecline # drop the first row because we are dropping it in the others\n",
    "# advanceDecline = advanceTot/declineTot\n",
    "# advanceDecline = pd.Series(advanceDecline)\n",
    "# advanceDecline = advanceDecline.pct_change(h).dropna()*100"
   ]
  },
  {
   "cell_type": "code",
   "execution_count": 43,
   "metadata": {},
   "outputs": [
    {
     "data": {
      "text/plain": [
       "2635    0.001658\n",
       "2636    0.001024\n",
       "2637   -0.002215\n",
       "2638    0.011668\n",
       "2639    0.003981\n",
       "2640   -0.003970\n",
       "2641   -0.001291\n",
       "2642    0.000317\n",
       "2643   -0.008403\n",
       "2644   -0.005357\n",
       "Name: PX_LAST, dtype: float64"
      ]
     },
     "execution_count": 43,
     "metadata": {},
     "output_type": "execute_result"
    }
   ],
   "source": [
    "prices[-10:]"
   ]
  },
  {
   "cell_type": "code",
   "execution_count": 46,
   "metadata": {},
   "outputs": [
    {
     "data": {
      "text/html": [
       "<div>\n",
       "<style scoped>\n",
       "    .dataframe tbody tr th:only-of-type {\n",
       "        vertical-align: middle;\n",
       "    }\n",
       "\n",
       "    .dataframe tbody tr th {\n",
       "        vertical-align: top;\n",
       "    }\n",
       "\n",
       "    .dataframe thead th {\n",
       "        text-align: right;\n",
       "    }\n",
       "</style>\n",
       "<table border=\"1\" class=\"dataframe\">\n",
       "  <thead>\n",
       "    <tr style=\"text-align: right;\">\n",
       "      <th></th>\n",
       "      <th>1</th>\n",
       "      <th>2</th>\n",
       "      <th>3</th>\n",
       "      <th>4</th>\n",
       "      <th>5</th>\n",
       "      <th>6</th>\n",
       "      <th>7</th>\n",
       "      <th>8</th>\n",
       "      <th>9</th>\n",
       "      <th>10</th>\n",
       "      <th>11</th>\n",
       "      <th>12</th>\n",
       "    </tr>\n",
       "  </thead>\n",
       "  <tbody>\n",
       "    <tr>\n",
       "      <th>2384</th>\n",
       "      <td>-0.004377</td>\n",
       "      <td>0.007527</td>\n",
       "      <td>0.007061</td>\n",
       "      <td>0.001658</td>\n",
       "      <td>0.001024</td>\n",
       "      <td>-0.002215</td>\n",
       "      <td>0.011668</td>\n",
       "      <td>0.003981</td>\n",
       "      <td>-0.00397</td>\n",
       "      <td>-0.001291</td>\n",
       "      <td>0.000317</td>\n",
       "      <td>-0.008403</td>\n",
       "    </tr>\n",
       "  </tbody>\n",
       "</table>\n",
       "</div>"
      ],
      "text/plain": [
       "             1         2         3         4         5         6         7  \\\n",
       "2384 -0.004377  0.007527  0.007061  0.001658  0.001024 -0.002215  0.011668   \n",
       "\n",
       "             8        9        10        11        12  \n",
       "2384  0.003981 -0.00397 -0.001291  0.000317 -0.008403  "
      ]
     },
     "execution_count": 46,
     "metadata": {},
     "output_type": "execute_result"
    }
   ],
   "source": [
    "timeseriesLagged(prices,lag + lookahead)[-1:]"
   ]
  },
  {
   "cell_type": "code",
   "execution_count": 38,
   "metadata": {},
   "outputs": [
    {
     "data": {
      "text/html": [
       "<div>\n",
       "<style scoped>\n",
       "    .dataframe tbody tr th:only-of-type {\n",
       "        vertical-align: middle;\n",
       "    }\n",
       "\n",
       "    .dataframe tbody tr th {\n",
       "        vertical-align: top;\n",
       "    }\n",
       "\n",
       "    .dataframe thead th {\n",
       "        text-align: right;\n",
       "    }\n",
       "</style>\n",
       "<table border=\"1\" class=\"dataframe\">\n",
       "  <thead>\n",
       "    <tr style=\"text-align: right;\">\n",
       "      <th></th>\n",
       "      <th>1</th>\n",
       "      <th>2</th>\n",
       "      <th>3</th>\n",
       "      <th>4</th>\n",
       "      <th>5</th>\n",
       "      <th>6</th>\n",
       "      <th>7</th>\n",
       "      <th>8</th>\n",
       "      <th>9</th>\n",
       "      <th>10</th>\n",
       "    </tr>\n",
       "  </thead>\n",
       "  <tbody>\n",
       "    <tr>\n",
       "      <th>2385</th>\n",
       "      <td>36.0</td>\n",
       "      <td>32.0</td>\n",
       "      <td>24.0</td>\n",
       "      <td>23.0</td>\n",
       "      <td>22.0</td>\n",
       "      <td>47.0</td>\n",
       "      <td>21.0</td>\n",
       "      <td>21.0</td>\n",
       "      <td>23.0</td>\n",
       "      <td>30.0</td>\n",
       "    </tr>\n",
       "  </tbody>\n",
       "</table>\n",
       "</div>"
      ],
      "text/plain": [
       "         1     2     3     4     5     6     7     8     9    10\n",
       "2385  36.0  32.0  24.0  23.0  22.0  47.0  21.0  21.0  23.0  30.0"
      ]
     },
     "execution_count": 38,
     "metadata": {},
     "output_type": "execute_result"
    }
   ],
   "source": [
    "advanceDF[-1:]"
   ]
  },
  {
   "cell_type": "code",
   "execution_count": 36,
   "metadata": {},
   "outputs": [
    {
     "data": {
      "text/plain": [
       "1.0"
      ]
     },
     "execution_count": 36,
     "metadata": {},
     "output_type": "execute_result"
    }
   ],
   "source": [
    "y[-2]"
   ]
  },
  {
   "cell_type": "code",
   "execution_count": 5,
   "metadata": {},
   "outputs": [],
   "source": [
    "pricesDF = timeseriesLagged(prices,lag + lookahead-1)\n",
    "oiFutDF = timeseriesLagged(oiFut,lag + lookahead-1).drop(str(lag+1),axis=1)\n",
    "advanceDF  = timeseriesLagged(advanceTot,lag + lookahead-1).drop(str(lag+1),axis=1)\n",
    "declineDF  = timeseriesLagged(declineTot,lag + lookahead-1).drop(str(lag+1),axis=1)"
   ]
  },
  {
   "cell_type": "code",
   "execution_count": 6,
   "metadata": {},
   "outputs": [],
   "source": [
    "# Binazrize the last column\n",
    "toOne = pricesDF[str(lag+1)] >  pricesDF[str(lag)] \n",
    "toTwo = pricesDF[str(lag+1)] <=  pricesDF[str(lag)] \n",
    "pricesDF.loc[toOne,str(lag+1)] = 1\n",
    "pricesDF.loc[toTwo,str(lag+1)] = 2"
   ]
  },
  {
   "cell_type": "code",
   "execution_count": 7,
   "metadata": {},
   "outputs": [],
   "source": [
    "yCopy = pricesDF[str(lag+1)]\n",
    "x1 = pricesDF.drop(str(lag+1),axis=1) \n",
    "x2 = oiFutDF\n",
    "x3 = advanceDF\n",
    "x4 = declineDF"
   ]
  },
  {
   "cell_type": "code",
   "execution_count": 8,
   "metadata": {},
   "outputs": [],
   "source": [
    "n = 4\n",
    "buySeries = np.zeros((len(x1),x1.shape[-1],n))\n",
    "buySeries[:,:,0] = x1\n",
    "buySeries[:,:,1] = x2\n",
    "buySeries[:,:,2] = x3\n",
    "buySeries[:,:,3] = x4\n",
    "\n"
   ]
  },
  {
   "cell_type": "code",
   "execution_count": 20,
   "metadata": {},
   "outputs": [
    {
     "data": {
      "text/plain": [
       "(2386, 10, 4)"
      ]
     },
     "execution_count": 20,
     "metadata": {},
     "output_type": "execute_result"
    }
   ],
   "source": [
    "buySeries.shape"
   ]
  },
  {
   "cell_type": "code",
   "execution_count": 9,
   "metadata": {},
   "outputs": [],
   "source": [
    "# Split into train test val\n",
    "x,y = buySeries,yCopy\n",
    "x,y = shuffle(x,y)\n",
    "tot = len(x)\n",
    "y = y.values\n",
    "yOrig = np.copy(y)\n",
    "\n",
    "scaler = MinMaxScaler()\n",
    "\n",
    "\n",
    "x = x.reshape(len(x),-1)\n",
    "trainPercent = 0.7 # majority of data used for training\n",
    "testPercent = 0.7 # \n",
    "valPercent = 1.00  #\n",
    "\n",
    "# Test Train Val Split\n",
    "\n",
    "xTrain = x[0:int(trainPercent*tot),:]\n",
    "yTrain = y[0:int(trainPercent*tot)]\n",
    "\n",
    "# scaler.fit(xTrain)\n",
    "\n",
    "xTest = x[int(trainPercent*tot): int(testPercent*tot),:]\n",
    "yTest = y[int(trainPercent*tot): int(testPercent*tot)]\n",
    "\n",
    "xVal = x[int(testPercent*tot):,:]\n",
    "yVal = y[int(testPercent*tot):]\n",
    "# xTrain = scaler.transform(xTrain)  \n",
    "# xTest = scaler.transform(xVal) "
   ]
  },
  {
   "cell_type": "code",
   "execution_count": 10,
   "metadata": {},
   "outputs": [],
   "source": [
    "pipe = make_pipeline(MinMaxScaler(feature_range=(-1,1),),\n",
    "                     PCA(n_components=0.975),\n",
    "                     svm.SVC(kernel='rbf', C=1.0,probability=True))\n",
    "scores = ['precision', 'recall']\n",
    "gsc = GridSearchCV(\n",
    "    estimator=pipe,\n",
    "    param_grid={\n",
    "        'pca__n_components': (0.95, 0.975, 0.99, None),\n",
    "        'svc__C': (0.5, 1.0, 2.0, 3.0),\n",
    "    },\n",
    "    scoring='precision',\n",
    "    cv=5,\n",
    "    return_train_score = True\n",
    ")\n",
    "\n",
    "grid_result = gsc.fit(xTrain, yTrain)"
   ]
  },
  {
   "cell_type": "code",
   "execution_count": 11,
   "metadata": {},
   "outputs": [
    {
     "name": "stdout",
     "output_type": "stream",
     "text": [
      "Best: 0.709550 using {'svc__C': 3.0, 'pca__n_components': None}\n",
      "Train: 0.735015 (0.005893) // Test : 0.702829 (0.023293) with: {'svc__C': 0.5, 'pca__n_components': 0.95}\n",
      "Train: 0.742897 (0.004805) // Test : 0.695021 (0.029111) with: {'svc__C': 1.0, 'pca__n_components': 0.95}\n",
      "Train: 0.752123 (0.004346) // Test : 0.688075 (0.035254) with: {'svc__C': 2.0, 'pca__n_components': 0.95}\n",
      "Train: 0.757729 (0.003326) // Test : 0.692787 (0.030153) with: {'svc__C': 3.0, 'pca__n_components': 0.95}\n",
      "Train: 0.732979 (0.003988) // Test : 0.706617 (0.018823) with: {'svc__C': 0.5, 'pca__n_components': 0.975}\n",
      "Train: 0.740271 (0.006021) // Test : 0.704427 (0.024032) with: {'svc__C': 1.0, 'pca__n_components': 0.975}\n",
      "Train: 0.746829 (0.004753) // Test : 0.694942 (0.027342) with: {'svc__C': 2.0, 'pca__n_components': 0.975}\n",
      "Train: 0.752780 (0.006386) // Test : 0.689692 (0.035345) with: {'svc__C': 3.0, 'pca__n_components': 0.975}\n",
      "Train: 0.730353 (0.007378) // Test : 0.704572 (0.019842) with: {'svc__C': 0.5, 'pca__n_components': 0.99}\n",
      "Train: 0.736001 (0.004490) // Test : 0.707919 (0.023575) with: {'svc__C': 1.0, 'pca__n_components': 0.99}\n",
      "Train: 0.743383 (0.004750) // Test : 0.701600 (0.028303) with: {'svc__C': 2.0, 'pca__n_components': 0.99}\n",
      "Train: 0.749936 (0.006900) // Test : 0.702086 (0.027603) with: {'svc__C': 3.0, 'pca__n_components': 0.99}\n",
      "Train: 0.727265 (0.008931) // Test : 0.709174 (0.025205) with: {'svc__C': 0.5, 'pca__n_components': None}\n",
      "Train: 0.728516 (0.007245) // Test : 0.705222 (0.019606) with: {'svc__C': 1.0, 'pca__n_components': None}\n",
      "Train: 0.734279 (0.007412) // Test : 0.708869 (0.021552) with: {'svc__C': 2.0, 'pca__n_components': None}\n",
      "Train: 0.737639 (0.006381) // Test : 0.709550 (0.024241) with: {'svc__C': 3.0, 'pca__n_components': None}\n"
     ]
    },
    {
     "data": {
      "text/plain": [
       "Pipeline(memory=None,\n",
       "     steps=[('minmaxscaler', MinMaxScaler(copy=True, feature_range=(-1, 1))), ('pca', PCA(copy=True, iterated_power='auto', n_components=None, random_state=None,\n",
       "  svd_solver='auto', tol=0.0, whiten=False)), ('svc', SVC(C=3.0, cache_size=200, class_weight=None, coef0=0.0,\n",
       "  decision_function_shape='ovr', degree=3, gamma='auto', kernel='rbf',\n",
       "  max_iter=-1, probability=True, random_state=None, shrinking=True,\n",
       "  tol=0.001, verbose=False))])"
      ]
     },
     "execution_count": 11,
     "metadata": {},
     "output_type": "execute_result"
    }
   ],
   "source": [
    "print(\"Best: %f using %s\" % (grid_result.best_score_, grid_result.best_params_))\n",
    "for test_mean, test_stdev, train_mean, train_stdev, param in zip(\n",
    "        grid_result.cv_results_['mean_test_score'],\n",
    "        grid_result.cv_results_['std_test_score'],\n",
    "        grid_result.cv_results_['mean_train_score'],\n",
    "        grid_result.cv_results_['std_train_score'],\n",
    "        grid_result.cv_results_['params']):\n",
    "    print(\"Train: %f (%f) // Test : %f (%f) with: %r\" % (train_mean, train_stdev, test_mean, test_stdev, param))\n",
    "pipe.set_params(**grid_result.best_params_)\n",
    "pipe.fit(xTrain, yTrain)\n"
   ]
  },
  {
   "cell_type": "code",
   "execution_count": 12,
   "metadata": {},
   "outputs": [
    {
     "name": "stdout",
     "output_type": "stream",
     "text": [
      "TRUE NEGATIVE: 255\n",
      "TRUE POSITIVE: 270\n",
      "FALSE POSITIVE: 92\n",
      "FALSE NEGATIVE: 99\n"
     ]
    }
   ],
   "source": [
    "preds = pipe.predict(xVal)\n",
    "conf = confusion_matrix(yVal,preds)\n",
    "tn, fp, fn, tp = conf.ravel()\n",
    "print(\"TRUE NEGATIVE: %d\" % tn)\n",
    "print(\"TRUE POSITIVE: %d\" % tp)\n",
    "print(\"FALSE POSITIVE: %d\" % fp)\n",
    "print(\"FALSE NEGATIVE: %d\" % fn)\n",
    "\n"
   ]
  },
  {
   "cell_type": "code",
   "execution_count": 13,
   "metadata": {},
   "outputs": [
    {
     "name": "stdout",
     "output_type": "stream",
     "text": [
      "Accuracy Percent: 0.733240\n",
      "Precision of Buy Model= 0.745856\n",
      "Recall of Buy Model = 0.731707\n",
      "Weight of Buy in data set: 0.484637\n"
     ]
    }
   ],
   "source": [
    "# Precision Recall of Sell\n",
    "print(\"Accuracy Percent: %f\"% (sum(preds==yVal)/len(yVal)))\n",
    "print(\"Precision of Buy Model= %f\" % (tp/(tp+fp)))\n",
    "print(\"Recall of Buy Model = %f\" % (tp/(tp+fn)))\n",
    "print(\"Weight of Buy in data set: %f\" % (sum(yVal==1)/len(yVal)))"
   ]
  },
  {
   "cell_type": "code",
   "execution_count": 14,
   "metadata": {},
   "outputs": [
    {
     "name": "stdout",
     "output_type": "stream",
     "text": [
      "Accuracy Percent: 0.733240\n",
      "Precision of Sell Model= 0.720339\n",
      "Recall of Sell Model = 0.734870\n",
      "Weight of Sell in data set: 0.515363\n"
     ]
    }
   ],
   "source": [
    "# Precision Recall of Buy\n",
    "print(\"Accuracy Percent: %f\"% (sum(preds==yVal)/len(yVal)))\n",
    "print(\"Precision of Sell Model= %f\" % (tn/(tn+fn)))\n",
    "print(\"Recall of Sell Model = %f\" % (tn/(tn+fp)))\n",
    "print(\"Weight of Sell in data set: %f\" % (sum(yVal==2)/len(yVal)))"
   ]
  },
  {
   "cell_type": "code",
   "execution_count": 15,
   "metadata": {},
   "outputs": [],
   "source": [
    "y_score = pipe.predict_proba(xVal)\n",
    "y_score = y_score[:,1]"
   ]
  },
  {
   "cell_type": "code",
   "execution_count": 16,
   "metadata": {},
   "outputs": [],
   "source": [
    "# Compute ROC curve and ROC area for each class\n",
    "fpr = dict()\n",
    "tpr = dict()\n",
    "roc_auc = dict()\n",
    "for i in range(1):\n",
    "    fpr[i], tpr[i], _ = roc_curve(yVal, y_score,pos_label=2)\n",
    "    roc_auc[i] = auc(fpr[i], tpr[i])"
   ]
  },
  {
   "cell_type": "code",
   "execution_count": 17,
   "metadata": {},
   "outputs": [
    {
     "data": {
      "image/png": "[encoded data removed]",
      "text/plain": [
       "<Figure size 432x288 with 1 Axes>"
      ]
     },
     "metadata": {},
     "output_type": "display_data"
    }
   ],
   "source": [
    "plt.figure()\n",
    "lw = 2\n",
    "plt.plot(fpr[0], tpr[0], color='darkorange',\n",
    "         lw=lw, label='ROC curve (area = %0.2f)' % roc_auc[0])\n",
    "plt.plot([0, 1], [0, 1], color='navy', lw=lw, linestyle='--')\n",
    "plt.xlim([0.0, 1.0])\n",
    "plt.ylim([0.0, 1.05])\n",
    "plt.xlabel('False Positive Rate')\n",
    "plt.ylabel('True Positive Rate')\n",
    "plt.title('Receiver operating Curve')\n",
    "plt.legend(loc=\"lower right\")\n",
    "plt.show()"
   ]
  },
  {
   "cell_type": "code",
   "execution_count": 18,
   "metadata": {},
   "outputs": [
    {
     "data": {
      "text/plain": [
       "['svm.pkl']"
      ]
     },
     "execution_count": 18,
     "metadata": {},
     "output_type": "execute_result"
    }
   ],
   "source": [
    "from sklearn.externals import joblib\n",
    "joblib.dump(pipe, 'svm.pkl') "
   ]
  },
  {
   "cell_type": "code",
   "execution_count": null,
   "metadata": {},
   "outputs": [],
   "source": []
  }
 ],
 "metadata": {
  "kernelspec": {
   "display_name": "Python 3",
   "language": "python",
   "name": "python3"
  },
  "language_info": {
   "codemirror_mode": {
    "name": "ipython",
    "version": 3
   },
   "file_extension": ".py",
   "mimetype": "text/x-python",
   "name": "python",
   "nbconvert_exporter": "python",
   "pygments_lexer": "ipython3",
   "version": "3.5.5"
  }
 },
 "nbformat": 4,
 "nbformat_minor": 2
}
