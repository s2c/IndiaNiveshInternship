{
 "cells": [
  {
   "cell_type": "code",
   "execution_count": 284,
   "metadata": {},
   "outputs": [],
   "source": [
    "import pandas as pd\n",
    "import numpy as np\n",
    "from sklearn import svm\n",
    "import sklearn.preprocessing as skp\n",
    "# import np_utils\n",
    "from sklearn.metrics import confusion_matrix\n",
    "from sklearn.utils import shuffle"
   ]
  },
  {
   "cell_type": "markdown",
   "metadata": {},
   "source": [
    "# Basic Code\n",
    "This part can be ignored, it serves to build the technical process to develop the actual model, but doesn't contain too much to interpret from a model evaluation point of view"
   ]
  },
  {
   "cell_type": "code",
   "execution_count": 285,
   "metadata": {},
   "outputs": [],
   "source": [
    "#Creates Lagged series\n",
    "#Goes through a series and generates an lag+1 dimensional pandas DataFrame that has each previous lag timeunit\n",
    "#as a column and current as the last cobilumn\n",
    "#Input: Pandas Series\n",
    "#Output: lag+1 dimensional DataFrame\n",
    "\n",
    "def timeseriesLagged(data, lag=60):\n",
    "    df = data\n",
    "    columns = [df.shift(i) for i in range(1, lag+2)] \n",
    "    df = pd.concat(columns,axis=1)\n",
    "    df.fillna(0, inplace=True)\n",
    "    df.columns = [str(lag+2-x) for x in range(1,lag+2)]\n",
    "    # df.reset_index(inplace=True,drop=False)\n",
    "    df = df[df.columns[::-1]] #Flip because we want newer data on the right\n",
    "    df= df.iloc[lag+1:] # drop the first 'lag' columns because zeroes.\n",
    "    df.reset_index(drop=True,inplace=True)\n",
    "    return df\n",
    "\n",
    "# Binarizes the last column into 1, 0, -1. 1 = buy 0 = do nothing -1 = sell\n",
    "# Rate is the percent increase or decrease that should trigger a buy or a sell\n",
    "# lag is the time unit of lag. \n",
    "# atleast is how many of the lookahead need to be atleast the same or greater than flat+rat\n",
    "# Input: lagged pandas DataFrame, uint lag, double dif, double flat, double atleast between 0 and 1\n",
    "# Output : Pandas Dataframe with last column binarized\n",
    "def binarizeTime(resLagged,rate = 0,lookahead = 0, flat = 0,atleast = 0.5):\n",
    "    if lookahead <= 0 :\n",
    "        raise Exception(\"lookahead Must be 1 or higher!\")\n",
    "    resLagged = resLagged.copy() # Make a deep copy\n",
    "    last = np.shape(resLagged)[1] # find the length of the data \n",
    "    last = last-lookahead # convert it to string for loc\n",
    "    colsLookAhead = list(resLagged.loc[:,str(last+1):str(last + lookahead)])\n",
    "    colsLast = resLagged[str(last)]\n",
    "    diffs = resLagged[colsLookAhead].subtract(colsLast,axis=0)\n",
    "#     print(diffs)\n",
    "    greater = diffs>=flat  # all the times the price changed higer than flat\n",
    "    greater = np.count_nonzero(greater,axis=1).reshape((1,-1))\n",
    "    lesser = diffs<=-flat # all the times the price fell lower than fat\n",
    "    lesser = np.count_nonzero(lesser,axis=1).reshape((1,-1))\n",
    "#     return greater,lesser\n",
    "#     print(greater)\n",
    "    greater = greater.reshape(1,-1)\n",
    "    changeToBuy = np.any(greater > lesser & np.greater(greater,atleast*lookahead),axis=0) # make sure more rises than falls and atleast half rises\n",
    "    changeToSell = np.any(lesser > greater & np.greater(lesser,atleast*lookahead),axis=0)      # make sure more falls than rises and atleast half rises\n",
    "    changeToHold = ~changeToBuy & ~changeToSell\n",
    "    resLagged = resLagged.drop(colsLookAhead,1)\n",
    "    resLagged.loc[changeToSell,str(last+1)] = -1 # Set sell to -1\n",
    "    resLagged.loc[changeToBuy,str(last+1)] = 1 # Set buy to 1\n",
    "    resLagged.loc[changeToHold,str(last+1)] = 0 # Set to 0\n",
    "    return resLagged"
   ]
  },
  {
   "cell_type": "code",
   "execution_count": 286,
   "metadata": {},
   "outputs": [],
   "source": [
    "# Nifty. Reading and Cleaning\n",
    "fut = pd.read_csv(\"Nifty50FUT.csv\")\n",
    "fut['Price']= fut['Price'].str.replace(\",\",\"\").astype(np.double)\n",
    "fut['Open']= fut['Open'].str.replace(\",\",\"\").astype(np.double)\n",
    "fut['High']= fut['High'].str.replace(\",\",\"\").astype(np.double)\n",
    "fut['Low']= fut['Low'].str.replace(\",\",\"\").astype(np.double)\n",
    "fut['Vol.']= fut['Vol.'].str.replace(\",\",\"\").str.replace(\"M\",\"e6\").str.replace(\"-\",\"0\").str.replace(\"K\",\"e3\").astype(np.double)\n",
    "fut = fut[::-1]\n",
    "fut.reset_index(inplace=True, drop = True)\n",
    "\n",
    "nifty = pd.read_csv(\"Nifty.csv\")\n",
    "nifty = nifty[::-1]\n",
    "nifty.reset_index(inplace=True, drop = True)\n",
    "nifty['Price']= nifty['Price'].str.replace(\",\",\"\").astype(np.double)\n",
    "nifty['Open']= nifty['Open'].str.replace(\",\",\"\").astype(np.double)\n",
    "nifty['High']= nifty['High'].str.replace(\",\",\"\").astype(np.double)\n",
    "nifty['Low']= nifty['Low'].str.replace(\",\",\"\").astype(np.double)\n",
    "nifty['Vol.']= nifty['Vol.'].str.replace(\",\",\"\").str.replace(\"M\",\"e6\").str.replace(\"-\",\"0\").str.replace(\"K\",\"e3\").astype(np.double)\n",
    "\n",
    "\n",
    "niftyDrop = np.setdiff1d(fut['Date'].values,nifty['Date'].values)\n",
    "futDrop = np.setdiff1d(nifty['Date'].values,fut['Date'].values)\n",
    "nifty = nifty[~nifty.Date.isin(futDrop)]\n",
    "fut = fut[~fut.Date.isin(niftyDrop)]"
   ]
  },
  {
   "cell_type": "code",
   "execution_count": 287,
   "metadata": {},
   "outputs": [],
   "source": [
    "# Nifty Base\n",
    "volNifty = nifty['Vol.'].diff().dropna()\n",
    "openNifty = nifty['Open'].diff().dropna()\n",
    "highNifty = nifty['High'].diff().dropna()\n",
    "lowNifty = nifty['Low'].diff().dropna()\n",
    "dataNifty = nifty['Price'].diff().dropna()\n",
    "\n",
    "# Nifty Futs\n",
    "volFut = fut['Vol.'].diff().dropna()\n",
    "openFut = fut['Open'].diff().dropna()\n",
    "highFut = fut['High'].diff().dropna()\n",
    "lowFut = fut['Low'].diff().dropna()\n",
    "dataFut = fut['Price'].diff().dropna()\n",
    "#Future Premium\n",
    "prems = dataFut.values - dataNifty.values\n",
    "prems = pd.Series(prems)"
   ]
  },
  {
   "cell_type": "code",
   "execution_count": 288,
   "metadata": {},
   "outputs": [],
   "source": [
    "lag=15\n",
    "lookahead = 1\n",
    "flat = 0\n",
    "# First N predicts N+1th. Creating the 1st N series\n",
    "closeNifty = timeseriesLagged(dataNifty,lag + lookahead-1)\n",
    "# These are correlated with closeNifty, so we will ignore them for now\n",
    "# openNifty = timeseriesLagged(openNifty,lag + lookahead-1).drop(str(lag+1),axis=1)\n",
    "# highNifty = timeseriesLagged(highNifty,lag + lookahead-1).drop(str(lag+1),axis=1)\n",
    "# lowNifty = timeseriesLagged(lowNifty,lag + lookahead-1).drop(str(lag+1),axis=1)\n",
    "\n",
    "volNifty = timeseriesLagged(volNifty,lag + lookahead-1).drop(str(lag+1),axis=1)\n",
    "volNifty = skp.minmax_scale(volNifty,axis=1)\n",
    "\n",
    "# First N predicts N+1th. Creating the 1st N series\n",
    "closeFut = timeseriesLagged(dataFut,lag + lookahead-1).drop(str(lag+1),axis=1)\n",
    "closeFut = skp.minmax_scale(closeFut,axis=1)\n",
    "\n",
    "# These are correlated with closeNifty, so we will ignore them for now\n",
    "# openNifty = timeseriesLagged(openNifty,lag + lookahead-1).drop(str(lag+1),axis=1)\n",
    "# highNifty = timeseriesLagged(highNifty,lag + lookahead-1).drop(str(lag+1),axis=1)\n",
    "# lowNifty = timeseriesLagged(lowNifty,lag + lookahead-1).drop(str(lag+1),axis=1)\n",
    "volFut = timeseriesLagged(volFut,lag + lookahead-1).drop(str(lag+1),axis=1)\n",
    "volFut = skp.minmax_scale(volFut,axis=1)\n",
    "\n",
    "prems = timeseriesLagged(prems,lag + lookahead-1).drop(str(lag+1),axis=1)\n",
    "prems = skp.minmax_scale(prems,axis=1)\n",
    "\n",
    "\n",
    "\n"
   ]
  },
  {
   "cell_type": "code",
   "execution_count": 289,
   "metadata": {},
   "outputs": [],
   "source": [
    "closeNifty.loc[closeNifty[str(lag+1)] > flat,str(lag+1)] = 1\n",
    "closeNifty.loc[closeNifty[str(lag+1)] <= flat,str(lag+1)] = 2\n",
    "closeNifty.loc[closeNifty[str(lag+1)] == flat,str(lag+1)] = 3\n"
   ]
  },
  {
   "cell_type": "code",
   "execution_count": 290,
   "metadata": {},
   "outputs": [],
   "source": [
    "n = 5\n",
    "buySeriesLabs = closeNifty[str(lag+1)] # labels\n",
    "buySeriesFeats = closeNifty.drop(str(lag+1),axis=1) #features\n",
    "buySeriesFeats = buySeriesFeats.values\n",
    "buySeriesFeats = skp.scale(buySeriesFeats,axis=1)\n",
    "\n",
    "buySeries = np.zeros((len(buySeriesFeats),buySeriesFeats.shape[-1],n))\n",
    "buySeries[:,:,0] = buySeriesFeats\n",
    "buySeries[:,:,1] = volFut\n",
    "buySeries[:,:,2] = prems\n",
    "buySeries[:,:,3] = closeFut\n",
    "buySeries[:,:,4] = volNifty\n",
    "\n"
   ]
  },
  {
   "cell_type": "code",
   "execution_count": 291,
   "metadata": {},
   "outputs": [],
   "source": [
    "x,y = buySeries,buySeriesLabs\n",
    "x,y = shuffle(x,y)\n",
    "tot = len(x)\n",
    "y = y.values\n",
    "yOrig = np.copy(y)\n",
    "\n",
    "x = x.reshape(len(x),-1)\n",
    "trainPercent = 0.9 # majority of data used for training\n",
    "testPercent = 0.9 # \n",
    "valPercent = 1.00  #\n",
    "\n",
    "# Test Train Val Split\n",
    "\n",
    "xTrain = x[0:int(trainPercent*tot),:]\n",
    "yTrain = y[0:int(trainPercent*tot)]\n",
    "\n",
    "xTest = x[int(trainPercent*tot): int(testPercent*tot),:]\n",
    "yTest = y[int(trainPercent*tot): int(testPercent*tot)]\n",
    "\n",
    "xVal = x[int(testPercent*tot):,:]\n",
    "yVal = y[int(testPercent*tot):]"
   ]
  },
  {
   "cell_type": "code",
   "execution_count": 292,
   "metadata": {},
   "outputs": [
    {
     "data": {
      "text/plain": [
       "SVC(C=1.0, cache_size=200, class_weight=None, coef0=0.0,\n",
       "  decision_function_shape='ovr', degree=3, gamma='auto', kernel='rbf',\n",
       "  max_iter=-1, probability=False, random_state=None, shrinking=True,\n",
       "  tol=0.001, verbose=False)"
      ]
     },
     "execution_count": 292,
     "metadata": {},
     "output_type": "execute_result"
    }
   ],
   "source": [
    "clf = svm.SVC(kernel='rbf')\n",
    "clf.fit(xTrain, yTrain) "
   ]
  },
  {
   "cell_type": "code",
   "execution_count": 293,
   "metadata": {},
   "outputs": [
    {
     "name": "stdout",
     "output_type": "stream",
     "text": [
      "0.4866920152091255\n",
      "[[89 44]\n",
      " [91 39]]\n"
     ]
    }
   ],
   "source": [
    "preds = clf.predict(xVal)\n",
    "print(sum(preds==yVal)/len(yVal))\n",
    "print(confusion_matrix(yVal,preds))"
   ]
  },
  {
   "cell_type": "markdown",
   "metadata": {},
   "source": [
    "# Actual Dataset\n",
    "We will try to use Open Interest, Volume, Price from Nifty Futures and Price and Volume from Nifty from the last $LAG$ (variable, will adjust as fit) to make a prediction on whether nifty will increase or decrease as compared to $h$ days ago."
   ]
  },
  {
   "cell_type": "code",
   "execution_count": 495,
   "metadata": {},
   "outputs": [],
   "source": [
    "# Read all the data from the csv files\n",
    "nifty = pd.read_csv(\"NiftyPrice.csv\")\n",
    "nifty = nifty[::-1] # Reverse to align\n",
    "nifty.reset_index(inplace=True, drop = True)\n",
    "nifty.rename(columns={ nifty.columns[0]: \"Date\" },inplace=True)\n",
    "\n",
    "futOI = pd.read_csv(\"NiftyFutOI.csv\")\n",
    "futOI = futOI[::-1] # Reverse to align\n",
    "futOI.reset_index(inplace=True, drop = True)\n",
    "futOI.rename(columns={ futOI.columns[0]: \"Date\" },inplace=True)\n",
    "\n",
    "fut = pd.read_csv(\"NiftyFutPrice.csv\")\n",
    "fut = fut[::-1] # reverse to align\n",
    "fut.reset_index(inplace=True, drop = True)\n",
    "fut.rename(columns={ fut.columns[0]: \"Date\" },inplace=True)\n",
    "\n",
    "oil = pd.read_csv(\"oil.csv\")\n",
    "# oil = oil[::-1]\n",
    "oil.reset_index(inplace=True, drop = True)\n",
    "oil.rename(columns={ oil.columns[0]: \"Date\" },inplace=True)\n",
    "\n",
    "usdinr = pd.read_csv(\"usdinr.csv\")\n",
    "usdinr.rename(columns={ usdinr.columns[0]: \"Date\" },inplace=True)\n",
    "\n",
    "advances = pd.read_csv(\"advances.csv\")\n",
    "advances.rename(columns={ advances.columns[0]: \"Date\" },inplace=True)\n",
    "\n",
    "declines = pd.read_csv(\"decline.csv\")\n",
    "declines.rename(columns={ declines.columns[0]: \"Date\" },inplace=True)\n",
    "# Drop any rows not common in both\n",
    "# Data Arrays\n",
    "dat = [nifty,fut,futOI,oil,usdinr,advances,declines]\n",
    "\n",
    "# Clean and make sure they have the same dates\n",
    "dropset = [] # Collect the dropsets\n",
    "n = 2\n",
    "for cleanee in dat: # O(n^2)\n",
    "    for cleaner in dat: \n",
    "        drop = np.setdiff1d(cleaner['Date'].values,cleanee['Date'].values) # Everything in cleaner AND not in cleanee\n",
    "        dropset.append(drop)\n",
    "\n",
    "for i in range(0,len(dat)): # Actuall drop\n",
    "    for drop in dropset:\n",
    "        dat[i] = dat[i][~dat[i].Date.isin(drop)]        \n"
   ]
  },
  {
   "cell_type": "code",
   "execution_count": 496,
   "metadata": {},
   "outputs": [],
   "source": [
    "from sklearn.linear_model import LogisticRegression, SGDClassifier\n",
    "from sklearn.naive_bayes import GaussianNB\n",
    "from sklearn.neighbors import KNeighborsClassifier"
   ]
  },
  {
   "cell_type": "code",
   "execution_count": 498,
   "metadata": {},
   "outputs": [],
   "source": [
    "# Create % change daily bars of the different features\n",
    "# Nifty Base\n",
    "h = 1 # change from how far ago\n",
    "volNifty = dat[0]['PX_VOLUME'].pct_change(h).dropna()*100\n",
    "dataNifty = dat[0]['PX_LAST'].pct_change(h).dropna()*100\n",
    "\n",
    "# Nifty Futs\n",
    "volFut = dat[1]['PX_VOLUME'].pct_change(h).dropna()*100\n",
    "oiFut = dat[2]['OPEN_INT'].pct_change(h).dropna()*100\n",
    "dataFut = dat[1]['PX_LAST'].pct_change(h).dropna()*100\n",
    "\n",
    "# Oil\n",
    "volOil = dat[3]['PX_VOLUME'].pct_change(h).dropna()*100\n",
    "dataOil = dat[3]['PX_LAST'].pct_change(h).dropna()*100\n",
    "\n",
    "# USDINR\n",
    "dataUSDINR = dat[4]['Last Price'].astype(np.float).pct_change(h).dropna()*100\n",
    "\n",
    "# Advance Decline\n",
    "advanceTot = dat[5]['PX_LAST']\n",
    "declineTot = dat[6]['PX_LAST']\n",
    "# advanceDecline = advanceDecline # drop the first row because we are dropping it in the others\n",
    "advanceDecline = advanceTot/declineTot\n",
    "advanceDecline = pd.Series(advanceDecline[1:])\n",
    "# advanceDecline = advanceDecline.pct_change(h).dropna()*100"
   ]
  },
  {
   "cell_type": "code",
   "execution_count": 499,
   "metadata": {},
   "outputs": [],
   "source": [
    "lag = 20\n",
    "lookahead = 1\n",
    "flat = 0\n",
    "# First N predicts N+1th. Creating the 1st N series\n",
    "closeNifty = timeseriesLagged(dataNifty,lag + lookahead-1)\n",
    "\n",
    "volNifty = timeseriesLagged(volNifty,lag + lookahead-1).drop(str(lag+1),axis=1)\n",
    "# volNifty = skp.scale(volNifty,axis=1)\n",
    "\n",
    "# First N predicts N+1th. Creating the 1st N series\n",
    "closeFut = timeseriesLagged(dataFut,lag + lookahead-1).drop(str(lag+1),axis=1)\n",
    "# closeFut = skp.scale(closeFut,axis=1)\n",
    "\n",
    "volFut = timeseriesLagged(volFut,lag + lookahead-1).drop(str(lag+1),axis=1)\n",
    "# volFut = skp.scale(volFut,axis=1)\n",
    "\n",
    "oiFut = timeseriesLagged(oiFut,lag + lookahead-1).drop(str(lag+1),axis=1)\n",
    "# oiFut = skp.scale(oiFut,axis=1)\n",
    "\n",
    "# Oil\n",
    "volOil = timeseriesLagged(volOil,lag + lookahead-1).drop(str(lag+1),axis=1)\n",
    "# volOil = skp.scale(volOil,axis=1)\n",
    "dataOil = timeseriesLagged(dataOil,lag + lookahead-1).drop(str(lag+1),axis=1)\n",
    "# dataOil = skp.scale(dataOil,axis=1)\n",
    "\n",
    "# USDINR\n",
    "dataUSDINR = timeseriesLagged(dataUSDINR,lag + lookahead-1).drop(str(lag+1),axis=1)\n",
    "# dataUSDINR = skp.scale(dataUSDINR,axis=1)\n",
    "\n",
    "\n",
    "# Advance Decline\n",
    "advanceDecline = timeseriesLagged(advanceDecline,lag + lookahead-1).drop(str(lag+1),axis=1)\n",
    "advanceDecline = skp.scale(advanceDecline,axis=1)"
   ]
  },
  {
   "cell_type": "code",
   "execution_count": 500,
   "metadata": {},
   "outputs": [],
   "source": [
    "# Binazrize the last column\n",
    "closeNifty.loc[closeNifty[str(lag+1)] > flat,str(lag+1)] = 1\n",
    "closeNifty.loc[closeNifty[str(lag+1)] <= flat,str(lag+1)] = 2\n",
    "closeNifty.loc[closeNifty[str(lag+1)] == flat,str(lag+1)] = 3\n",
    "closeNifty[str(lag+1)]=closeNifty[str(lag+1)].astype(np.int)"
   ]
  },
  {
   "cell_type": "code",
   "execution_count": 501,
   "metadata": {},
   "outputs": [],
   "source": [
    "# Build the feature vector\n",
    "n = 4\n",
    "buySeriesLabs = closeNifty[str(lag+1)] # labels\n",
    "buySeriesFeats = closeNifty.drop(str(lag+1),axis=1) #features\n",
    "buySeriesFeats = buySeriesFeats.values\n",
    "# buySeriesFeats = skp.scale(buySeriesFeats,axis=1)\n",
    "\n",
    "\n",
    "buySeries = np.zeros((len(buySeriesFeats),buySeriesFeats.shape[-1],n))\n",
    "buySeries[:,:,0] = buySeriesFeats\n",
    "buySeries[:,:,1] = volFut\n",
    "buySeries[:,:,2] = oiFut\n",
    "# buySeries[:,:,3] = volOil\n",
    "# buySeries[:,:,4] = dataOil\n",
    "# buySeries[:,:,5] = dataUSDINR\n",
    "# buySeries[:,:,3] = advanceDecline"
   ]
  },
  {
   "cell_type": "code",
   "execution_count": 502,
   "metadata": {},
   "outputs": [],
   "source": [
    "# Split into train test val\n",
    "from sklearn.preprocessing import StandardScaler\n",
    "x,y = buySeries,buySeriesLabs\n",
    "x,y = shuffle(x,y)\n",
    "tot = len(x)\n",
    "y = y.values\n",
    "yOrig = np.copy(y)\n",
    "\n",
    "scaler = StandardScaler()  \n",
    "\n",
    "\n",
    "x = x.reshape(len(x),-1)\n",
    "trainPercent = 0.9 # majority of data used for training\n",
    "testPercent = 0.9 # \n",
    "valPercent = 1.00  #\n",
    "\n",
    "# Test Train Val Split\n",
    "\n",
    "xTrain = x[0:int(trainPercent*tot),:]\n",
    "yTrain = y[0:int(trainPercent*tot)]\n",
    "scaler.fit(xTrain)\n",
    "\n",
    "xTest = x[int(trainPercent*tot): int(testPercent*tot),:]\n",
    "yTest = y[int(trainPercent*tot): int(testPercent*tot)]\n",
    "\n",
    "xVal = x[int(testPercent*tot):,:]\n",
    "yVal = y[int(testPercent*tot):]\n",
    "\n",
    "# xTrain = scaler.transform(xTrain)  \n",
    "# xTest = scaler.transform(xVal) "
   ]
  },
  {
   "cell_type": "code",
   "execution_count": 503,
   "metadata": {},
   "outputs": [],
   "source": [
    "# KNN\n",
    "neigh = KNeighborsClassifier(n_neighbors=15, weights= 'distance')\n",
    "neigh.fit(xTrain,yTrain)\n",
    "preds = neigh.predict(xVal)\n"
   ]
  },
  {
   "cell_type": "code",
   "execution_count": 504,
   "metadata": {},
   "outputs": [],
   "source": [
    "# predsArray = []\n",
    "# accArray = []\n",
    "# test = 500\n",
    "# for i in range(100,test):\n",
    "#     neigh = KNeighborsClassifier(n_neighbors=i)\n",
    "#     neigh.fit(xTrain,yTrain)\n",
    "#     pred = neigh.predict(xVal)\n",
    "#     acc = sum(yVal==pred)/len(yVal)\n",
    "#     predsArray.append(pred)\n",
    "#     accArray.append(acc)\n",
    "    \n",
    "    "
   ]
  },
  {
   "cell_type": "code",
   "execution_count": 505,
   "metadata": {},
   "outputs": [
    {
     "data": {
      "text/plain": [
       "[<matplotlib.lines.Line2D at 0x25dfea989e8>]"
      ]
     },
     "execution_count": 505,
     "metadata": {},
     "output_type": "execute_result"
    },
    {
     "data": {
      "image/png": "[encoded data removed]",
      "text/plain": [
       "<Figure size 432x288 with 1 Axes>"
      ]
     },
     "metadata": {},
     "output_type": "display_data"
    }
   ],
   "source": [
    "import matplotlib.pyplot as plt\n",
    "plt.plot(accArray)"
   ]
  },
  {
   "cell_type": "code",
   "execution_count": 506,
   "metadata": {},
   "outputs": [
    {
     "name": "stdout",
     "output_type": "stream",
     "text": [
      "TRUE NEGATIVE: 61\n",
      "TRUE POSITIVE: 39\n",
      "FALSE POSITIVE: 47\n",
      "FALSE NEGATIVE: 62\n",
      "Weight of Buy in data set: 0.516746\n"
     ]
    }
   ],
   "source": [
    "conf = confusion_matrix(yVal,preds)\n",
    "tn, fp, fn, tp = conf.ravel()\n",
    "print(\"TRUE NEGATIVE: %d\" % tn)\n",
    "print(\"TRUE POSITIVE: %d\" % tp)\n",
    "print(\"FALSE POSITIVE: %d\" % fp)\n",
    "print(\"FALSE NEGATIVE: %d\" % fn)\n",
    "print(\"Weight of Buy in data set: %f\" % (sum(yVal==1)/len(yVal)))\n"
   ]
  },
  {
   "cell_type": "code",
   "execution_count": 489,
   "metadata": {},
   "outputs": [
    {
     "name": "stdout",
     "output_type": "stream",
     "text": [
      "Accuracy Percent: 0.459330\n",
      "Precision of Buy Model= 0.415730\n",
      "Recall of Buy Model = 0.377551\n"
     ]
    }
   ],
   "source": [
    "# Precision Recall of Sell\n",
    "print(\"Accuracy Percent: %f\"% (sum(preds==yVal)/len(yVal)))\n",
    "print(\"Precision of Buy Model= %f\" % (tp/(tp+fp)))\n",
    "print(\"Recall of Buy Model = %f\" % (tp/(tp+fn)))"
   ]
  },
  {
   "cell_type": "code",
   "execution_count": 490,
   "metadata": {},
   "outputs": [
    {
     "name": "stdout",
     "output_type": "stream",
     "text": [
      "Accuracy Percent: 0.459330\n",
      "Precision of Sell Model= 0.491667\n",
      "Recall of Sell Model = 0.531532\n",
      "Weight of Sell in data set: 0.468900\n"
     ]
    }
   ],
   "source": [
    "# Precision Recall of Sell\n",
    "print(\"Accuracy Percent: %f\"% (sum(preds==yVal)/len(yVal)))\n",
    "print(\"Precision of Sell Model= %f\" % (tn/(tn+fn)))\n",
    "print(\"Recall of Sell Model = %f\" % (tn/(tn+fp)))\n",
    "print(\"Weight of Sell in data set: %f\" % (sum(yVal==2)/len(yVal)))"
   ]
  },
  {
   "cell_type": "code",
   "execution_count": 491,
   "metadata": {},
   "outputs": [
    {
     "data": {
      "text/plain": [
       "SVC(C=1.0, cache_size=200, class_weight=None, coef0=0.0,\n",
       "  decision_function_shape='ovr', degree=3, gamma='auto', kernel='rbf',\n",
       "  max_iter=-1, probability=True, random_state=None, shrinking=True,\n",
       "  tol=0.001, verbose=False)"
      ]
     },
     "execution_count": 491,
     "metadata": {},
     "output_type": "execute_result"
    }
   ],
   "source": [
    "# rbf SVM\n",
    "clf = svm.SVC(kernel='rbf', degree = 3, probability= True) # change kernels between linear, poly and rbf as fit.\n",
    "clf.fit(xTrain, yTrain) "
   ]
  },
  {
   "cell_type": "code",
   "execution_count": 462,
   "metadata": {},
   "outputs": [],
   "source": [
    "# predsProbs = clf.predict_log_proba(xVal)\n",
    "# np.argmax(predsProbs,axis=1)"
   ]
  },
  {
   "cell_type": "code",
   "execution_count": 463,
   "metadata": {},
   "outputs": [],
   "source": [
    "predsProbs = clf.predict_proba(xVal)\n",
    "preds = clf.predict(xVal)\n"
   ]
  },
  {
   "cell_type": "code",
   "execution_count": 464,
   "metadata": {},
   "outputs": [
    {
     "name": "stdout",
     "output_type": "stream",
     "text": [
      "TRUE NEGATIVE: 64\n",
      "TRUE POSITIVE: 35\n",
      "FALSE POSITIVE: 40\n",
      "FALSE NEGATIVE: 70\n",
      "Weight of Buy in data set: 0.497608\n"
     ]
    }
   ],
   "source": [
    "conf = confusion_matrix(yVal,preds)\n",
    "tn, fp, fn, tp = conf.ravel()\n",
    "print(\"TRUE NEGATIVE: %d\" % tn)\n",
    "print(\"TRUE POSITIVE: %d\" % tp)\n",
    "print(\"FALSE POSITIVE: %d\" % fp)\n",
    "print(\"FALSE NEGATIVE: %d\" % fn)\n",
    "print(\"Weight of Buy in data set: %f\" % (sum(yVal==1)/len(yVal)))"
   ]
  },
  {
   "cell_type": "code",
   "execution_count": 465,
   "metadata": {},
   "outputs": [
    {
     "name": "stdout",
     "output_type": "stream",
     "text": [
      "Accuracy Percent: 0.473684\n",
      "Precision of Buy Model= 0.466667\n",
      "Recall of Buy Model = 0.333333\n"
     ]
    }
   ],
   "source": [
    "# Precision Recall of Sell\n",
    "print(\"Accuracy Percent: %f\"% (sum(preds==yVal)/len(yVal)))\n",
    "print(\"Precision of Buy Model= %f\" % (tp/(tp+fp)))\n",
    "print(\"Recall of Buy Model = %f\" % (tp/(tp+fn)))"
   ]
  },
  {
   "cell_type": "code",
   "execution_count": 466,
   "metadata": {},
   "outputs": [
    {
     "name": "stdout",
     "output_type": "stream",
     "text": [
      "Accuracy Percent: 0.473684\n",
      "Precision of Sell Model= 0.477612\n",
      "Recall of Sell Model = 0.615385\n",
      "Weight of Sell in data set: 0.502392\n"
     ]
    }
   ],
   "source": [
    "# Precision Recall of Sell\n",
    "print(\"Accuracy Percent: %f\"% (sum(preds==yVal)/len(yVal)))\n",
    "print(\"Precision of Sell Model= %f\" % (tn/(tn+fn)))\n",
    "print(\"Recall of Sell Model = %f\" % (tn/(tn+fp)))\n",
    "print(\"Weight of Sell in data set: %f\" % (sum(yVal==2)/len(yVal)))"
   ]
  },
  {
   "cell_type": "code",
   "execution_count": null,
   "metadata": {},
   "outputs": [],
   "source": []
  },
  {
   "cell_type": "code",
   "execution_count": null,
   "metadata": {},
   "outputs": [],
   "source": []
  }
 ],
 "metadata": {
  "kernelspec": {
   "display_name": "Python 3",
   "language": "python",
   "name": "python3"
  },
  "language_info": {
   "codemirror_mode": {
    "name": "ipython",
    "version": 3
   },
   "file_extension": ".py",
   "mimetype": "text/x-python",
   "name": "python",
   "nbconvert_exporter": "python",
   "pygments_lexer": "ipython3",
   "version": "3.6.5"
  }
 },
 "nbformat": 4,
 "nbformat_minor": 2
}
