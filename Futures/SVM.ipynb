{
 "cells": [
  {
   "cell_type": "code",
   "execution_count": 3,
   "metadata": {},
   "outputs": [],
   "source": [
    "import pandas as pd\n",
    "import numpy as np\n",
    "from sklearn import svm\n",
    "import sklearn.preprocessing as skp\n",
    "# import np_utils\n",
    "from sklearn.metrics import confusion_matrix\n",
    "from sklearn.utils import shuffle"
   ]
  },
  {
   "cell_type": "markdown",
   "metadata": {},
   "source": [
    "# Basic Code\n",
    "This part can be ignored, it serves to build the technical process to develop the actual model, but doesn't contain too much to interpret from a model evaluation point of view"
   ]
  },
  {
   "cell_type": "code",
   "execution_count": 4,
   "metadata": {},
   "outputs": [],
   "source": [
    "#Creates Lagged series\n",
    "#Goes through a series and generates an lag+1 dimensional pandas DataFrame that has each previous lag timeunit\n",
    "#as a column and current as the last cobilumn\n",
    "#Input: Pandas Series\n",
    "#Output: lag+1 dimensional DataFrame\n",
    "\n",
    "def timeseriesLagged(data, lag=60):\n",
    "    df = data\n",
    "    columns = [df.shift(i) for i in range(1, lag+2)] \n",
    "    df = pd.concat(columns,axis=1)\n",
    "    df.fillna(0, inplace=True)\n",
    "    df.columns = [str(lag+2-x) for x in range(1,lag+2)]\n",
    "    # df.reset_index(inplace=True,drop=False)\n",
    "    df = df[df.columns[::-1]] #Flip because we want newer data on the right\n",
    "    df= df.iloc[lag+1:] # drop the first 'lag' columns because zeroes.\n",
    "    df.reset_index(drop=True,inplace=True)\n",
    "    return df\n",
    "\n",
    "# Binarizes the last column into 1, 0, -1. 1 = buy 0 = do nothing -1 = sell\n",
    "# Rate is the percent increase or decrease that should trigger a buy or a sell\n",
    "# lag is the time unit of lag. \n",
    "# atleast is how many of the lookahead need to be atleast the same or greater than flat+rat\n",
    "# Input: lagged pandas DataFrame, uint lag, double dif, double flat, double atleast between 0 and 1\n",
    "# Output : Pandas Dataframe with last column binarized\n",
    "def binarizeTime(resLagged,rate = 0,lookahead = 0, flat = 0,atleast = 0.5):\n",
    "    if lookahead <= 0 :\n",
    "        raise Exception(\"lookahead Must be 1 or higher!\")\n",
    "    resLagged = resLagged.copy() # Make a deep copy\n",
    "    last = np.shape(resLagged)[1] # find the length of the data \n",
    "    last = last-lookahead # convert it to string for loc\n",
    "    colsLookAhead = list(resLagged.loc[:,str(last+1):str(last + lookahead)])\n",
    "    colsLast = resLagged[str(last)]\n",
    "    diffs = resLagged[colsLookAhead].subtract(colsLast,axis=0)\n",
    "#     print(diffs)\n",
    "    greater = diffs>=flat  # all the times the price changed higer than flat\n",
    "    greater = np.count_nonzero(greater,axis=1).reshape((1,-1))\n",
    "    lesser = diffs<=-flat # all the times the price fell lower than fat\n",
    "    lesser = np.count_nonzero(lesser,axis=1).reshape((1,-1))\n",
    "#     return greater,lesser\n",
    "#     print(greater)\n",
    "    greater = greater.reshape(1,-1)\n",
    "    changeToBuy = np.any(greater > lesser & np.greater(greater,atleast*lookahead),axis=0) # make sure more rises than falls and atleast half rises\n",
    "    changeToSell = np.any(lesser > greater & np.greater(lesser,atleast*lookahead),axis=0)      # make sure more falls than rises and atleast half rises\n",
    "    changeToHold = ~changeToBuy & ~changeToSell\n",
    "    resLagged = resLagged.drop(colsLookAhead,1)\n",
    "    resLagged.loc[changeToSell,str(last+1)] = -1 # Set sell to -1\n",
    "    resLagged.loc[changeToBuy,str(last+1)] = 1 # Set buy to 1\n",
    "    resLagged.loc[changeToHold,str(last+1)] = 0 # Set to 0\n",
    "    return resLagged"
   ]
  },
  {
   "cell_type": "code",
   "execution_count": 5,
   "metadata": {},
   "outputs": [],
   "source": [
    "# Nifty. Reading and Cleaning\n",
    "h = 5\n",
    "fut = pd.read_csv(\"Nifty50FUT.csv\")\n",
    "fut['Price']= fut['Price'].str.replace(\",\",\"\").astype(np.double).rolling(h).mean()\n",
    "fut['Open']= fut['Open'].str.replace(\",\",\"\").astype(np.double).rolling(h).mean()\n",
    "fut['High']= fut['High'].str.replace(\",\",\"\").astype(np.double).rolling(h).mean()\n",
    "fut['Low']= fut['Low'].str.replace(\",\",\"\").astype(np.double).rolling(h).mean()\n",
    "fut['Vol.']= fut['Vol.'].str.replace(\",\",\"\").str.replace(\"M\",\"e6\").str.replace(\"-\",\"0\").str.replace(\"K\",\"e3\").astype(np.double).rolling(h).mean()\n",
    "fut = fut[::-1]\n",
    "fut.reset_index(inplace=True, drop = True)\n",
    "\n",
    "nifty = pd.read_csv(\"Nifty.csv\")\n",
    "nifty = nifty[::-1]\n",
    "nifty.reset_index(inplace=True, drop = True)\n",
    "nifty['Price']= nifty['Price'].str.replace(\",\",\"\").astype(np.double).rolling(h).mean()\n",
    "nifty['Open']= nifty['Open'].str.replace(\",\",\"\").astype(np.double).rolling(h).mean()\n",
    "nifty['High']= nifty['High'].str.replace(\",\",\"\").astype(np.double).rolling(h).mean()\n",
    "nifty['Low']= nifty['Low'].str.replace(\",\",\"\").astype(np.double).rolling(h).mean()\n",
    "nifty['Vol.']= nifty['Vol.'].str.replace(\",\",\"\").str.replace(\"M\",\"e6\").str.replace(\"-\",\"0\").str.replace(\"K\",\"e3\").astype(np.double).rolling(h).mean()\n",
    "\n",
    "\n",
    "niftyDrop = np.setdiff1d(fut['Date'].values,nifty['Date'].values)\n",
    "futDrop = np.setdiff1d(nifty['Date'].values,fut['Date'].values)\n",
    "nifty = nifty[~nifty.Date.isin(futDrop)]\n",
    "fut = fut[~fut.Date.isin(niftyDrop)]"
   ]
  },
  {
   "cell_type": "code",
   "execution_count": 6,
   "metadata": {},
   "outputs": [
    {
     "data": {
      "text/plain": [
       "0        6244.70\n",
       "1        6253.56\n",
       "2        6250.04\n",
       "3        6237.93\n",
       "4        6225.23\n",
       "5        6184.95\n",
       "6        6121.60\n",
       "7        6075.83\n",
       "8        5981.18\n",
       "9        5775.80\n",
       "10       5540.44\n",
       "11       5384.29\n",
       "12       5198.99\n",
       "13       5130.90\n",
       "14       5145.34\n",
       "15       5222.05\n",
       "16       5220.02\n",
       "17       5246.46\n",
       "18       5232.64\n",
       "19       5269.61\n",
       "20       5310.17\n",
       "21       5338.17\n",
       "22       5330.68\n",
       "23       5284.55\n",
       "24       5155.68\n",
       "25       5018.56\n",
       "26       4940.99\n",
       "27       4958.36\n",
       "28       4998.58\n",
       "29       5090.96\n",
       "          ...   \n",
       "2713    11170.36\n",
       "2714    11218.18\n",
       "2715    11264.10\n",
       "2716    11311.68\n",
       "2717    11334.68\n",
       "2718    11352.49\n",
       "2719    11367.64\n",
       "2720    11376.99\n",
       "2721    11395.66\n",
       "2722    11436.71\n",
       "2723    11445.41\n",
       "2724    11438.79\n",
       "2725    11447.81\n",
       "2726    11431.53\n",
       "2727    11416.20\n",
       "2728    11426.04\n",
       "2729    11465.60\n",
       "2731    11541.67\n",
       "2732    11578.57\n",
       "2733    11595.20\n",
       "2734    11620.48\n",
       "2736    11666.38\n",
       "2737    11682.66\n",
       "2738    11715.40\n",
       "2739    11702.68\n",
       "2740    11677.49\n",
       "2741         NaN\n",
       "2742         NaN\n",
       "2743         NaN\n",
       "2744         NaN\n",
       "Name: Price, Length: 2642, dtype: float64"
      ]
     },
     "execution_count": 6,
     "metadata": {},
     "output_type": "execute_result"
    }
   ],
   "source": [
    "fut['Price']"
   ]
  },
  {
   "cell_type": "code",
   "execution_count": 7,
   "metadata": {},
   "outputs": [],
   "source": [
    "# Nifty Base\n",
    "volNifty = nifty['Vol.'].diff().dropna()\n",
    "openNifty = nifty['Open'].diff().dropna()\n",
    "highNifty = nifty['High'].diff().dropna()\n",
    "lowNifty = nifty['Low'].diff().dropna()\n",
    "dataNifty = nifty['Price'].diff().dropna()\n",
    "\n",
    "# Nifty Futs\n",
    "volFut = fut['Vol.'].diff().dropna()\n",
    "openFut = fut['Open'].diff().dropna()\n",
    "highFut = fut['High'].diff().dropna()\n",
    "lowFut = fut['Low'].diff().dropna()\n",
    "dataFut = fut['Price'].diff().dropna()\n",
    "#Future Premium\n",
    "prems = dataFut.values - dataNifty.values\n",
    "prems = pd.Series(prems)"
   ]
  },
  {
   "cell_type": "code",
   "execution_count": 8,
   "metadata": {},
   "outputs": [],
   "source": [
    "lag=15\n",
    "lookahead = 1\n",
    "flat = 0\n",
    "# First N predicts N+1th. Creating the 1st N series\n",
    "closeNifty = timeseriesLagged(dataNifty,lag + lookahead-1)\n",
    "# These are correlated with closeNifty, so we will ignore them for now\n",
    "# openNifty = timeseriesLagged(openNifty,lag + lookahead-1).drop(str(lag+1),axis=1)\n",
    "# highNifty = timeseriesLagged(highNifty,lag + lookahead-1).drop(str(lag+1),axis=1)\n",
    "# lowNifty = timeseriesLagged(lowNifty,lag + lookahead-1).drop(str(lag+1),axis=1)\n",
    "\n",
    "volNifty = timeseriesLagged(volNifty,lag + lookahead-1).drop(str(lag+1),axis=1)\n",
    "volNifty = skp.minmax_scale(volNifty,axis=1)\n",
    "\n",
    "# First N predicts N+1th. Creating the 1st N series\n",
    "closeFut = timeseriesLagged(dataFut,lag + lookahead-1).drop(str(lag+1),axis=1)\n",
    "closeFut = skp.minmax_scale(closeFut,axis=1)\n",
    "\n",
    "# These are correlated with closeNifty, so we will ignore them for now\n",
    "# openNifty = timeseriesLagged(openNifty,lag + lookahead-1).drop(str(lag+1),axis=1)\n",
    "# highNifty = timeseriesLagged(highNifty,lag + lookahead-1).drop(str(lag+1),axis=1)\n",
    "# lowNifty = timeseriesLagged(lowNifty,lag + lookahead-1).drop(str(lag+1),axis=1)\n",
    "volFut = timeseriesLagged(volFut,lag + lookahead-1).drop(str(lag+1),axis=1)\n",
    "volFut = skp.minmax_scale(volFut,axis=1)\n",
    "\n",
    "prems = timeseriesLagged(prems,lag + lookahead-1).drop(str(lag+1),axis=1)\n",
    "prems = skp.minmax_scale(prems,axis=1)\n",
    "\n",
    "\n",
    "\n"
   ]
  },
  {
   "cell_type": "code",
   "execution_count": null,
   "metadata": {},
   "outputs": [],
   "source": [
    "closeNifty.loc[closeNifty[str(lag+1)] > flat,str(lag+1)] = 1\n",
    "closeNifty.loc[closeNifty[str(lag+1)] <= flat,str(lag+1)] = 2\n",
    "closeNifty.loc[closeNifty[str(lag+1)] == flat,str(lag+1)] = 3\n"
   ]
  },
  {
   "cell_type": "code",
   "execution_count": null,
   "metadata": {},
   "outputs": [],
   "source": [
    "n = 5\n",
    "buySeriesLabs = closeNifty[str(lag+1)] # labels\n",
    "buySeriesFeats = closeNifty.drop(str(lag+1),axis=1) #features\n",
    "buySeriesFeats = buySeriesFeats.values\n",
    "buySeriesFeats = skp.scale(buySeriesFeats,axis=1)\n",
    "\n",
    "buySeries = np.zeros((len(buySeriesFeats),buySeriesFeats.shape[-1],n))\n",
    "buySeries[:,:,0] = buySeriesFeats\n",
    "buySeries[:,:,1] = volFut\n",
    "buySeries[:,:,2] = prems\n",
    "buySeries[:,:,3] = closeFut\n",
    "buySeries[:,:,4] = volNifty\n",
    "\n"
   ]
  },
  {
   "cell_type": "code",
   "execution_count": null,
   "metadata": {},
   "outputs": [],
   "source": [
    "x,y = buySeries,buySeriesLabs\n",
    "x,y = shuffle(x,y)\n",
    "tot = len(x)\n",
    "y = y.values\n",
    "yOrig = np.copy(y)\n",
    "\n",
    "x = x.reshape(len(x),-1)\n",
    "trainPercent = 0.9 # majority of data used for training\n",
    "testPercent = 0.9 # \n",
    "valPercent = 1.00  #\n",
    "\n",
    "# Test Train Val Split\n",
    "\n",
    "xTrain = x[0:int(trainPercent*tot),:]\n",
    "yTrain = y[0:int(trainPercent*tot)]\n",
    "\n",
    "xTest = x[int(trainPercent*tot): int(testPercent*tot),:]\n",
    "yTest = y[int(trainPercent*tot): int(testPercent*tot)]\n",
    "\n",
    "xVal = x[int(testPercent*tot):,:]\n",
    "yVal = y[int(testPercent*tot):]"
   ]
  },
  {
   "cell_type": "code",
   "execution_count": null,
   "metadata": {},
   "outputs": [],
   "source": [
    "clf = svm.SVC(kernel='rbf')\n",
    "clf.fit(xTrain, yTrain) "
   ]
  },
  {
   "cell_type": "code",
   "execution_count": null,
   "metadata": {},
   "outputs": [],
   "source": [
    "preds = clf.predict(xVal)\n",
    "print(sum(preds==yVal)/len(yVal))\n",
    "print(confusion_matrix(yVal,preds))"
   ]
  },
  {
   "cell_type": "markdown",
   "metadata": {},
   "source": [
    "# Actual Dataset\n",
    "We will try to use Open Interest, Volume, Price from Nifty Futures and Price and Volume from Nifty from the last $LAG$ (variable, will adjust as fit) to make a prediction on whether nifty will increase or decrease as compared to $h$ days ago."
   ]
  },
  {
   "cell_type": "code",
   "execution_count": 279,
   "metadata": {},
   "outputs": [],
   "source": [
    "# Read all the data from the csv files\n",
    "nifty = pd.read_csv(\"NiftyPrice.csv\")\n",
    "nifty = nifty[::-1] # Reverse to align\n",
    "nifty.reset_index(inplace=True, drop = True)\n",
    "nifty.rename(columns={ nifty.columns[0]: \"Date\" },inplace=True)\n",
    "\n",
    "futOI = pd.read_csv(\"NiftyFutOI.csv\")\n",
    "futOI = futOI[::-1] # Reverse to align\n",
    "futOI.reset_index(inplace=True, drop = True)\n",
    "futOI.rename(columns={ futOI.columns[0]: \"Date\" },inplace=True)\n",
    "\n",
    "fut = pd.read_csv(\"NiftyFutPrice.csv\")\n",
    "fut = fut[::-1] # reverse to align\n",
    "fut.reset_index(inplace=True, drop = True)\n",
    "fut.rename(columns={ fut.columns[0]: \"Date\" },inplace=True)\n",
    "\n",
    "oil = pd.read_csv(\"oil.csv\")\n",
    "# oil = oil[::-1]\n",
    "oil.reset_index(inplace=True, drop = True)\n",
    "oil.rename(columns={ oil.columns[0]: \"Date\" },inplace=True)\n",
    "\n",
    "usdinr = pd.read_csv(\"usdinr.csv\")\n",
    "usdinr.rename(columns={ usdinr.columns[0]: \"Date\" },inplace=True)\n",
    "\n",
    "advances = pd.read_csv(\"advances.csv\")\n",
    "advances.rename(columns={ advances.columns[0]: \"Date\" },inplace=True)\n",
    "\n",
    "declines = pd.read_csv(\"decline.csv\")\n",
    "declines.rename(columns={ declines.columns[0]: \"Date\" },inplace=True)\n",
    "# Drop any rows not common in both\n",
    "# Data Arrays\n",
    "dat = [nifty,fut,futOI,oil,usdinr,advances,declines]\n",
    "\n",
    "# Clean and make sure they have the same dates\n",
    "dropset = [] # Collect the dropsets\n",
    "n = 2\n",
    "for cleanee in dat: # O(n^2)\n",
    "    for cleaner in dat: \n",
    "        drop = np.setdiff1d(cleaner['Date'].values,cleanee['Date'].values) # Everything in cleaner AND not in cleanee\n",
    "        dropset.append(drop)\n",
    "\n",
    "for i in range(0,len(dat)): # Actuall drop\n",
    "    for drop in dropset:\n",
    "        dat[i] = dat[i][~dat[i].Date.isin(drop)]        \n"
   ]
  },
  {
   "cell_type": "code",
   "execution_count": 280,
   "metadata": {},
   "outputs": [],
   "source": [
    "from sklearn.linear_model import LogisticRegression, SGDClassifier\n",
    "from sklearn.naive_bayes import GaussianNB\n",
    "from sklearn.neighbors import KNeighborsClassifier\n",
    "from sklearn.metrics import r2_score\n",
    "from sklearn.metrics import roc_curve, auc\n",
    "import matplotlib.pyplot as plt"
   ]
  },
  {
   "cell_type": "code",
   "execution_count": 281,
   "metadata": {},
   "outputs": [],
   "source": [
    "# Create % change daily bars of the different features\n",
    "# Nifty Base\n",
    "h = 1 # change from how far ago\n",
    "t = 6\n",
    "t2 = 15\n",
    "t4 = 19\n",
    "prices = np.log(dat[0]['PX_LAST']).diff().dropna()[t-1:]\n",
    "volNifty = dat[0]['PX_VOLUME'].pct_change(h).dropna().rolling(t).mean().dropna()\n",
    "volNiftyt2 = dat[0]['PX_VOLUME'].pct_change(h).dropna().rolling(t2).mean().dropna()\n",
    "volNiftyt4 = dat[0]['PX_VOLUME'].pct_change(h).dropna().rolling(t4).mean().dropna()\n",
    "lowestVolNiftyIndex = min(volNiftyt4.index)\n",
    "\n",
    "dataNifty = np.log(dat[0]['PX_LAST']).pct_change(h).dropna().rolling(t).mean().dropna()\n",
    "dataNiftyt2 = dat[0]['PX_LAST'].pct_change(h).dropna().rolling(t2).mean().dropna()\n",
    "dataNiftyt4 = dat[0]['PX_LAST'].pct_change(h).dropna().rolling(t4).mean().dropna()\n",
    "\n",
    "# Nifty Futs\n",
    "volFut = dat[1]['PX_VOLUME'].pct_change(h).dropna().rolling(t).mean().dropna()\n",
    "volFutt2 = dat[1]['PX_VOLUME'].pct_change(h).dropna().rolling(t2).mean().dropna()\n",
    "volFutt4 = dat[1]['PX_VOLUME'].pct_change(h).dropna().rolling(t4).mean().dropna()\n",
    "\n",
    "oiFut = dat[2]['OPEN_INT'].pct_change(h).dropna().rolling(t).mean().dropna()\n",
    "oiFutt2 = dat[2]['OPEN_INT'].pct_change(h).dropna().rolling(t2).mean().dropna()\n",
    "oiFutt4 = dat[2]['OPEN_INT'].pct_change(h).dropna().rolling(t4).mean().dropna()\n",
    "\n",
    "dataFut = dat[1]['PX_LAST'].pct_change(h).dropna().rolling(t).mean().dropna()\n",
    "dataFutt2 = dat[1]['PX_LAST'].pct_change(h).dropna().rolling(t2).mean().dropna()\n",
    "dataFutt4 = dat[1]['PX_LAST'].pct_change(h).dropna().rolling(t4).mean().dropna()\n",
    "\n",
    "# Oil\n",
    "volOil = dat[3]['PX_VOLUME'].pct_change(h).dropna().rolling(t).mean().dropna()\n",
    "volOilt2 = dat[3]['PX_VOLUME'].pct_change(h).dropna().rolling(t2).mean().dropna()\n",
    "volOilt4 = dat[3]['PX_VOLUME'].pct_change(h).dropna().rolling(t4).mean().dropna()\n",
    "\n",
    "dataOil = dat[3]['PX_LAST'].pct_change(h).dropna().rolling(t).mean().dropna()\n",
    "dataOilt2 = dat[3]['PX_LAST'].pct_change(h).dropna().rolling(t4).mean().dropna()\n",
    "dataOilt4 = dat[3]['PX_LAST'].pct_change(h).dropna().rolling(t4).mean().dropna()\n",
    "\n",
    "\n",
    "# USDINR\n",
    "dataUSDINR = dat[4]['Last Price'].astype(np.float).pct_change(h).dropna().rolling(t).mean().dropna()\n",
    "dataUSDINRt2 = dat[4]['Last Price'].astype(np.float).pct_change(h).dropna().rolling(t2).mean().dropna()\n",
    "dataUSDINRt4 = dat[4]['Last Price'].astype(np.float).pct_change(h).dropna().rolling(t4).mean().dropna()\n",
    "\n",
    "# Advance Decline\n",
    "advanceTot = dat[5]['PX_LAST'].rolling(h).mean()\n",
    "declineTot = dat[6]['PX_LAST'].rolling(h).mean()\n",
    "# advanceDecline = advanceDecline # drop the first row because we are dropping it in the others\n",
    "advanceDecline = advanceTot/declineTot\n",
    "advanceDecline = pd.Series(advanceDecline[t:])\n",
    "# advanceDecline = advanceDecline.pct_change(h).dropna()*100\n",
    "\n",
    "# Calc Historic Volatility\n",
    "returns = dat[0]['PX_LAST']\n",
    "returns = changes/changes.shift(h)\n",
    "returns = changes.dropna()\n",
    "returns = np.log(returns)\n",
    "histVol = returns.rolling(t).std().dropna()"
   ]
  },
  {
   "cell_type": "code",
   "execution_count": 282,
   "metadata": {},
   "outputs": [],
   "source": [
    "lag = 7\n",
    "lookahead = 1\n",
    "flat = 0\n",
    "# First N predicts N+1th. Creating the 1st N series\n",
    "closeNifty = timeseriesLagged(dataNifty,lag + lookahead-1)\n",
    "\n",
    "volNifty = timeseriesLagged(volNifty,lag + lookahead-1).drop(str(lag+1),axis=1)\n",
    "# volNifty = skp.scale(volNifty,axis=1)\n",
    "\n",
    "# First N predicts N+1th. Creating the 1st N series\n",
    "closeFut = timeseriesLagged(dataFut,lag + lookahead-1).drop(str(lag+1),axis=1)\n",
    "# closeFut = skp.scale(closeFut,axis=1)\n",
    "\n",
    "volFut = timeseriesLagged(volFut,lag + lookahead-1).drop(str(lag+1),axis=1)\n",
    "# volFut = skp.scale(volFut,axis=1)\n",
    "\n",
    "oiFut = timeseriesLagged(oiFut,lag + lookahead-1).drop(str(lag+1),axis=1)\n",
    "# oiFut = skp.scale(oiFut,axis=1)\n",
    "\n",
    "# Oil\n",
    "volOil = timeseriesLagged(volOil,lag + lookahead-1).drop(str(lag+1),axis=1)\n",
    "# volOil = skp.scale(volOil,axis=1)\n",
    "dataOil = timeseriesLagged(dataOil,lag + lookahead-1).drop(str(lag+1),axis=1)\n",
    "# dataOil = skp.scale(dataOil,axis=1)\n",
    "\n",
    "# USDINR\n",
    "dataUSDINR = timeseriesLagged(dataUSDINR,lag + lookahead-1).drop(str(lag+1),axis=1)\n",
    "# dataUSDINR = skp.scale(dataUSDINR,axis=1)\n",
    "\n",
    "\n",
    "# Advance Decline\n",
    "advanceDecline = timeseriesLagged(advanceDecline,lag + lookahead-1).drop(str(lag+1),axis=1)\n",
    "# advanceDecline = skp.scale(advanceDecline,axis=1)\n",
    "\n",
    "pricesDF = timeseriesLagged(prices,lag + lookahead-1)\n",
    "\n",
    "# Historic Volatility\n",
    "\n",
    "histVolDF = timeseriesLagged(histVol,lag + lookahead-1).drop(str(lag+1),axis=1)"
   ]
  },
  {
   "cell_type": "code",
   "execution_count": 283,
   "metadata": {},
   "outputs": [],
   "source": [
    "actuals = closeNifty.copy()"
   ]
  },
  {
   "cell_type": "code",
   "execution_count": 374,
   "metadata": {},
   "outputs": [],
   "source": [
    "# Binazrize the last column\n",
    "Actuals = closeNifty.copy\n",
    "toOne = pricesDF[str(lag+1)] >    0#pricesDF[str(lag)]\n",
    "toTwo = pricesDF[str(lag+1)] <=   0#pricesDF[str(lag)]\n",
    "closeNifty.loc[toOne,str(lag+1)] = 1\n",
    "closeNifty.loc[toTwo,str(lag+1)] = 2\n",
    "# closeNifty.loc[closeNifty[str(lag+1)] == closeNifty[str(lag)],str(lag+1)] = 3\n",
    "closeNifty[str(lag+1)]=closeNifty[str(lag+1)].astype(np.int)\n",
    "\n",
    "# Actuals\n",
    "upday = pricesDF[str(lag+1)] > 0\n",
    "downday = pricesDF[str(lag+1)] <= 0\n",
    "actuals.loc[upday,str(lag+1)] = 1\n",
    "actuals.loc[downday,str(lag+1)] = 2\n",
    "\n",
    "actuals[str(lag+1)]=actuals[str(lag+1)].astype(np.int)"
   ]
  },
  {
   "cell_type": "code",
   "execution_count": 389,
   "metadata": {},
   "outputs": [],
   "source": [
    "# Build the feature vector\n",
    "n = 2\n",
    "buySeriesLabs = closeNifty[str(lag+1)] # labels\n",
    "yAct = actuals[str(lag+1)]\n",
    "buySeriesFeats = closeNifty.drop(str(lag+1),axis=1) #features\n",
    "buySeriesFeats = buySeriesFeats.values\n",
    "# buySeriesFeats = skp.scale(buySeriesFeats,axis=1)\n",
    "\n",
    "\n",
    "buySeries = np.zeros((len(buySeriesFeats),buySeriesFeats.shape[-1],n))\n",
    "buySeries[:,:,0] = buySeriesFeats\n",
    "# buySeries[:,:,1] = volFut\n",
    "# buySeries[:,:,1] = oiFut\n",
    "# buySeries[:,:,3] = histVolDF\n",
    "# buySeries[:,:,4] = dataOil\n",
    "# buySeries[:,:,5] = dataUSDINR\n",
    "buySeries[:,:,1] = advanceDecline"
   ]
  },
  {
   "cell_type": "code",
   "execution_count": 390,
   "metadata": {},
   "outputs": [
    {
     "data": {
      "text/plain": [
       "(2094, 7, 2)"
      ]
     },
     "execution_count": 390,
     "metadata": {},
     "output_type": "execute_result"
    }
   ],
   "source": [
    "buySeries.shape"
   ]
  },
  {
   "cell_type": "code",
   "execution_count": 391,
   "metadata": {},
   "outputs": [],
   "source": [
    "# Split into train test val\n",
    "from sklearn.preprocessing import StandardScaler\n",
    "x,y,yActMod = buySeries,buySeriesLabs,yAct\n",
    "x,y,yActMod = shuffle(x,y,yAct)\n",
    "tot = len(x)\n",
    "y = y.values\n",
    "yOrig = np.copy(y)\n",
    "\n",
    "scaler = StandardScaler()  \n",
    "\n",
    "\n",
    "x = x.reshape(len(x),-1)\n",
    "trainPercent = 0.7 # majority of data used for training\n",
    "testPercent = 0.7 # \n",
    "valPercent = 1.00  #\n",
    "\n",
    "# Test Train Val Split\n",
    "\n",
    "xTrain = x[0:int(trainPercent*tot),:]\n",
    "yTrain = y[0:int(trainPercent*tot)]\n",
    "yTrainMod = yActMod[0:int(trainPercent*tot)]\n",
    "# scaler.fit(xTrain)\n",
    "\n",
    "xTest = x[int(trainPercent*tot): int(testPercent*tot),:]\n",
    "yTest = y[int(trainPercent*tot): int(testPercent*tot)]\n",
    "yTestMod = yActMod[int(trainPercent*tot): int(testPercent*tot)]\n",
    "\n",
    "xVal = x[int(testPercent*tot):,:]\n",
    "yVal = y[int(testPercent*tot):]\n",
    "yValMod = yActMod[int(testPercent*tot):]\n",
    "# xTrain = scaler.transform(xTrain)  \n",
    "# xTest = scaler.transform(xVal) "
   ]
  },
  {
   "cell_type": "code",
   "execution_count": 392,
   "metadata": {},
   "outputs": [],
   "source": [
    "# KNN\n",
    "neigh = KNeighborsClassifier(n_neighbors=15, weights= 'distance')\n",
    "neigh.fit(xTrain,yTrain)\n",
    "preds = neigh.predict(xVal)\n"
   ]
  },
  {
   "cell_type": "code",
   "execution_count": 393,
   "metadata": {},
   "outputs": [],
   "source": [
    "# predsArray = []\n",
    "# accArray = []\n",
    "# test = 500\n",
    "# for i in range(100,test):\n",
    "#     neigh = KNeighborsClassifier(n_neighbors=i)\n",
    "#     neigh.fit(xTrain,yTrain)\n",
    "#     pred = neigh.predict(xVal)\n",
    "#     acc = sum(yVal==pred)/len(yVal)\n",
    "#     predsArray.append(pred)\n",
    "#     accArray.append(acc)\n",
    "    \n",
    "    "
   ]
  },
  {
   "cell_type": "code",
   "execution_count": 394,
   "metadata": {},
   "outputs": [
    {
     "name": "stdout",
     "output_type": "stream",
     "text": [
      "TRUE NEGATIVE: 185\n",
      "TRUE POSITIVE: 139\n",
      "FALSE POSITIVE: 147\n",
      "FALSE NEGATIVE: 158\n",
      "Weight of Buy in data set: 0.527822\n"
     ]
    }
   ],
   "source": [
    "conf = confusion_matrix(yVal,preds)\n",
    "tn, fp, fn, tp = conf.ravel()\n",
    "print(\"TRUE NEGATIVE: %d\" % tn)\n",
    "print(\"TRUE POSITIVE: %d\" % tp)\n",
    "print(\"FALSE POSITIVE: %d\" % fp)\n",
    "print(\"FALSE NEGATIVE: %d\" % fn)\n",
    "print(\"Weight of Buy in data set: %f\" % (sum(yVal==1)/len(yVal)))\n"
   ]
  },
  {
   "cell_type": "code",
   "execution_count": 395,
   "metadata": {},
   "outputs": [
    {
     "name": "stdout",
     "output_type": "stream",
     "text": [
      "Accuracy Percent: 0.515103\n",
      "Precision of Buy Model= 0.486014\n",
      "Recall of Buy Model = 0.468013\n"
     ]
    }
   ],
   "source": [
    "# Precision Recall of Sell\n",
    "print(\"Accuracy Percent: %f\"% (sum(preds==yVal)/len(yVal)))\n",
    "print(\"Precision of Buy Model= %f\" % (tp/(tp+fp)))\n",
    "print(\"Recall of Buy Model = %f\" % (tp/(tp+fn)))"
   ]
  },
  {
   "cell_type": "code",
   "execution_count": 396,
   "metadata": {},
   "outputs": [
    {
     "name": "stdout",
     "output_type": "stream",
     "text": [
      "Accuracy Percent: 0.515103\n",
      "Precision of Sell Model= 0.539359\n",
      "Recall of Sell Model = 0.557229\n",
      "Weight of Sell in data set: 0.472178\n"
     ]
    }
   ],
   "source": [
    "# Precision Recall of Sell\n",
    "print(\"Accuracy Percent: %f\"% (sum(preds==yVal)/len(yVal)))\n",
    "print(\"Precision of Sell Model= %f\" % (tn/(tn+fn)))\n",
    "print(\"Recall of Sell Model = %f\" % (tn/(tn+fp)))\n",
    "print(\"Weight of Sell in data set: %f\" % (sum(yVal==2)/len(yVal)))"
   ]
  },
  {
   "cell_type": "code",
   "execution_count": null,
   "metadata": {},
   "outputs": [],
   "source": [
    "# rbf SVM\n",
    "clf = svm.SVC(kernel='rbf', probability= True) # change kernels between linear, poly and rbf as fit.\n",
    "clf.fit(xTrain, yTrain) "
   ]
  },
  {
   "cell_type": "code",
   "execution_count": null,
   "metadata": {},
   "outputs": [],
   "source": [
    "# predsProbs = clf.predict_log_proba(xVal)\n",
    "# np.argmax(predsProbs,axis=1)"
   ]
  },
  {
   "cell_type": "code",
   "execution_count": 385,
   "metadata": {},
   "outputs": [],
   "source": [
    "predsProbs = clf.predict_proba(xVal)\n",
    "preds = clf.predict(xVal)\n"
   ]
  },
  {
   "cell_type": "code",
   "execution_count": 386,
   "metadata": {},
   "outputs": [],
   "source": [
    "# predsProbs\n",
    "# predsProbs = predsProbs < 0.7"
   ]
  },
  {
   "cell_type": "code",
   "execution_count": 387,
   "metadata": {},
   "outputs": [],
   "source": [
    "# predsProbs = predsProbs < 0.7\n",
    "# preds = np.argmax(predsProbs,axis=1) +1"
   ]
  },
  {
   "cell_type": "code",
   "execution_count": 388,
   "metadata": {},
   "outputs": [
    {
     "name": "stdout",
     "output_type": "stream",
     "text": [
      "TRUE NEGATIVE: 320\n",
      "TRUE POSITIVE: 0\n",
      "FALSE POSITIVE: 0\n",
      "FALSE NEGATIVE: 309\n",
      "Weight of Buy in data set: 0.508744\n"
     ]
    }
   ],
   "source": [
    "# predsProbs = predsProbs < 0.7\n",
    "# preds = np.argmax(predsProbs,axis=1) +1\n",
    "conf = confusion_matrix(yVal,preds)\n",
    "tn, fp, fn, tp = conf.ravel()\n",
    "print(\"TRUE NEGATIVE: %d\" % tn)\n",
    "print(\"TRUE POSITIVE: %d\" % tp)\n",
    "print(\"FALSE POSITIVE: %d\" % fp)\n",
    "print(\"FALSE NEGATIVE: %d\" % fn)\n",
    "print(\"Weight of Buy in data set: %f\" % (sum(yVal==1)/len(yVal)))"
   ]
  },
  {
   "cell_type": "code",
   "execution_count": 369,
   "metadata": {},
   "outputs": [
    {
     "name": "stdout",
     "output_type": "stream",
     "text": [
      "Accuracy Percent: 0.516693\n",
      "Precision of Buy Model= 0.516693\n",
      "Recall of Buy Model = 1.000000\n"
     ]
    }
   ],
   "source": [
    "# Precision Recall of Sell\n",
    "print(\"Accuracy Percent: %f\"% (sum(preds==yVal)/len(yVal)))\n",
    "print(\"Precision of Buy Model= %f\" % (tp/(tp+fp)))\n",
    "print(\"Recall of Buy Model = %f\" % (tp/(tp+fn)))"
   ]
  },
  {
   "cell_type": "code",
   "execution_count": 370,
   "metadata": {},
   "outputs": [
    {
     "name": "stdout",
     "output_type": "stream",
     "text": [
      "Accuracy Percent: 0.516693\n",
      "Precision of Sell Model= nan\n",
      "Recall of Sell Model = 0.000000\n",
      "Weight of Sell in data set: 0.516693\n"
     ]
    },
    {
     "name": "stderr",
     "output_type": "stream",
     "text": [
      "C:\\ProgramData\\Anaconda3\\lib\\site-packages\\ipykernel_launcher.py:3: RuntimeWarning: invalid value encountered in longlong_scalars\n",
      "  This is separate from the ipykernel package so we can avoid doing imports until\n"
     ]
    }
   ],
   "source": [
    "# Precision Recall of Sell\n",
    "print(\"Accuracy Percent: %f\"% (sum(preds==yVal)/len(yVal)))\n",
    "print(\"Precision of Sell Model= %f\" % (tn/(tn+fn)))\n",
    "print(\"Recall of Sell Model = %f\" % (tn/(tn+fp)))\n",
    "print(\"Weight of Sell in data set: %f\" % (sum(yVal==2)/len(yVal)))"
   ]
  },
  {
   "cell_type": "code",
   "execution_count": 371,
   "metadata": {},
   "outputs": [],
   "source": [
    "y_score = clf.predict_proba(xVal)\n",
    "y_score = y_score[:,1]"
   ]
  },
  {
   "cell_type": "code",
   "execution_count": 372,
   "metadata": {},
   "outputs": [],
   "source": [
    "# Compute ROC curve and ROC area for each class\n",
    "fpr = dict()\n",
    "tpr = dict()\n",
    "roc_auc = dict()\n",
    "for i in range(1):\n",
    "    fpr[i], tpr[i], _ = roc_curve(yVal, y_score,pos_label=2)\n",
    "    roc_auc[i] = auc(fpr[i], tpr[i])"
   ]
  },
  {
   "cell_type": "code",
   "execution_count": 373,
   "metadata": {},
   "outputs": [
    {
     "data": {
      "image/png": "[encoded data removed]",
      "text/plain": [
       "<Figure size 432x288 with 1 Axes>"
      ]
     },
     "metadata": {},
     "output_type": "display_data"
    }
   ],
   "source": [
    "plt.figure()\n",
    "lw = 2\n",
    "plt.plot(fpr[0], tpr[0], color='darkorange',\n",
    "         lw=lw, label='ROC curve (area = %0.2f)' % roc_auc[0])\n",
    "plt.plot([0, 1], [0, 1], color='navy', lw=lw, linestyle='--')\n",
    "plt.xlim([0.0, 1.0])\n",
    "plt.ylim([0.0, 1.05])\n",
    "plt.xlabel('False Positive Rate')\n",
    "plt.ylabel('True Positive Rate')\n",
    "plt.title('Receiver operating Curve')\n",
    "plt.legend(loc=\"lower right\")\n",
    "plt.show()"
   ]
  },
  {
   "cell_type": "code",
   "execution_count": 147,
   "metadata": {},
   "outputs": [
    {
     "data": {
      "text/plain": [
       "['svm.pkl']"
      ]
     },
     "execution_count": 147,
     "metadata": {},
     "output_type": "execute_result"
    }
   ],
   "source": [
    "from sklearn.externals import joblib\n",
    "joblib.dump(clf, 'svm.pkl') "
   ]
  },
  {
   "cell_type": "code",
   "execution_count": 120,
   "metadata": {},
   "outputs": [],
   "source": [
    "pred_probsTrain = clf.predict_proba(xTrain) # probabilities that change today is higher or lower than yesterday\n",
    "pred_probsVal = clf.predict_proba(xVal)"
   ]
  },
  {
   "cell_type": "code",
   "execution_count": 121,
   "metadata": {},
   "outputs": [],
   "source": [
    "metaCLF = svm.SVC(kernel='rbf', probability= True) # change kernels between linear, poly and rbf as fit.\n",
    "metaCLF.fit(pred_probsTrain, yTrainMod) # Train the probabilities against the actual change\n",
    "metaProbsTest = metaCLF.predict_proba(pred_probsVal)\n",
    "metaTest = metaCLF.predict(pred_probsVal)"
   ]
  },
  {
   "cell_type": "code",
   "execution_count": 60,
   "metadata": {},
   "outputs": [
    {
     "name": "stdout",
     "output_type": "stream",
     "text": [
      "TRUE NEGATIVE: 104\n",
      "TRUE POSITIVE: 0\n",
      "FALSE POSITIVE: 0\n",
      "FALSE NEGATIVE: 106\n",
      "Weight of Buy in data set: 0.500000\n"
     ]
    }
   ],
   "source": [
    "conf = confusion_matrix(yValMod,metaTest)\n",
    "tn, fp, fn, tp = conf.ravel()\n",
    "print(\"TRUE NEGATIVE: %d\" % tn)\n",
    "print(\"TRUE POSITIVE: %d\" % tp)\n",
    "print(\"FALSE POSITIVE: %d\" % fp)\n",
    "print(\"FALSE NEGATIVE: %d\" % fn)\n",
    "print(\"Weight of Buy in data set: %f\" % (sum(yVal==1)/len(yVal)))"
   ]
  },
  {
   "cell_type": "code",
   "execution_count": 61,
   "metadata": {},
   "outputs": [
    {
     "data": {
      "image/png": "[encoded data removed]",
      "text/plain": [
       "<Figure size 432x288 with 1 Axes>"
      ]
     },
     "metadata": {},
     "output_type": "display_data"
    }
   ],
   "source": [
    "# Compute ROC curve and ROC area for each class\n",
    "\n",
    "y_score = metaCLF.predict_proba(pred_probsVal)\n",
    "y_score = y_score[:,1]\n",
    "fpr = dict()\n",
    "tpr = dict()\n",
    "roc_auc = dict()\n",
    "for i in range(1):\n",
    "    fpr[i], tpr[i], _ = roc_curve(yValMod, y_score,pos_label=2)\n",
    "    roc_auc[i] = auc(fpr[i], tpr[i])\n",
    "\n",
    "plt.figure()\n",
    "lw = 2\n",
    "plt.plot(fpr[0], tpr[0], color='darkorange',\n",
    "         lw=lw, label='ROC curve (area = %0.2f)' % roc_auc[0])\n",
    "plt.plot([0, 1], [0, 1], color='navy', lw=lw, linestyle='--')\n",
    "plt.xlim([0.0, 1.0])\n",
    "plt.ylim([0.0, 1.05])\n",
    "plt.xlabel('False Positive Rate')\n",
    "plt.ylabel('True Positive Rate')\n",
    "plt.title('Receiver operating Curve')\n",
    "plt.legend(loc=\"lower right\")\n",
    "plt.show()"
   ]
  },
  {
   "cell_type": "code",
   "execution_count": null,
   "metadata": {},
   "outputs": [],
   "source": []
  }
 ],
 "metadata": {
  "kernelspec": {
   "display_name": "Python 3",
   "language": "python",
   "name": "python3"
  },
  "language_info": {
   "codemirror_mode": {
    "name": "ipython",
    "version": 3
   },
   "file_extension": ".py",
   "mimetype": "text/x-python",
   "name": "python",
   "nbconvert_exporter": "python",
   "pygments_lexer": "ipython3",
   "version": "3.5.5"
  }
 },
 "nbformat": 4,
 "nbformat_minor": 2
}
